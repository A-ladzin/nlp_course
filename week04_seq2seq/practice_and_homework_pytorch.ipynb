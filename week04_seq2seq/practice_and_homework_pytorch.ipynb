{
 "cells": [
  {
   "cell_type": "markdown",
   "metadata": {
    "colab_type": "text",
    "id": "HmsFABwClrsS"
   },
   "source": [
    "## Seminar and homework (10 points total)\n",
    "\n",
    "Today we shall compose encoder-decoder neural networks and apply them to the task of machine translation.\n",
    "\n",
    "![img](https://esciencegroup.files.wordpress.com/2016/03/seq2seq.jpg)\n",
    "_(img: esciencegroup.files.wordpress.com)_\n",
    "\n",
    "\n",
    "Encoder-decoder architectures are about converting anything to anything, including\n",
    " * Machine translation and spoken dialogue systems\n",
    " * [Image captioning](http://mscoco.org/dataset/#captions-challenge2015) and [image2latex](https://openai.com/requests-for-research/#im2latex) (convolutional encoder, recurrent decoder)\n",
    " * Generating [images by captions](https://arxiv.org/abs/1511.02793) (recurrent encoder, convolutional decoder)\n",
    " * Grapheme2phoneme - convert words to transcripts"
   ]
  },
  {
   "cell_type": "markdown",
   "metadata": {
    "colab_type": "text",
    "id": "R4N9AD2dlrsU"
   },
   "source": [
    "## Our task: machine translation\n",
    "\n",
    "We gonna try our encoder-decoder models on russian to english machine translation problem. More specifically, we'll translate hotel and hostel descriptions. This task shows the scale of machine translation while not requiring you to train your model for weeks if you don't use GPU.\n",
    "\n",
    "Before we get to the architecture, there's some preprocessing to be done. ~~Go tokenize~~ Alright, this time we've done preprocessing for you. As usual, the data will be tokenized with WordPunctTokenizer.\n",
    "\n",
    "However, there's one more thing to do. Our data lines contain unique rare words. If we operate on a word level, we will have to deal with large vocabulary size. If instead we use character-level models, it would take lots of iterations to process a sequence. This time we're gonna pick something inbetween.\n",
    "\n",
    "One popular approach is called [Byte Pair Encoding](https://github.com/rsennrich/subword-nmt) aka __BPE__. The algorithm starts with a character-level tokenization and then iteratively merges most frequent pairs for N iterations. This results in frequent words being merged into a single token and rare words split into syllables or even characters.\n",
    "\n"
   ]
  },
  {
   "cell_type": "code",
   "execution_count": 1,
   "metadata": {
    "colab": {},
    "colab_type": "code",
    "id": "CfvojjHQlrsU"
   },
   "outputs": [
    {
     "name": "stderr",
     "output_type": "stream",
     "text": [
      "\n",
      "[notice] A new release of pip is available: 24.0 -> 24.2\n",
      "[notice] To update, run: c:\\Users\\ADMIN\\AppData\\Local\\Programs\\Python\\Python310\\python.exe -m pip install --upgrade pip\n",
      "The syntax of the command is incorrect.\n"
     ]
    }
   ],
   "source": [
    "!pip3 install torch>=1.3.0\n",
    "!pip3 install subword-nmt &> log\n",
    "# !wget https://www.dropbox.com/s/yy2zqh34dyhv07i/data.txt?dl=1 -O data.txt\n",
    "# !wget https://raw.githubusercontent.com/yandexdataschool/nlp_course/2020/week04_seq2seq/vocab.py -O vocab.py\n",
    "# thanks to tilda and deephack teams for the data, Dmitry Emelyanenko for the code :)"
   ]
  },
  {
   "cell_type": "code",
   "execution_count": 2,
   "metadata": {
    "colab": {},
    "colab_type": "code",
    "id": "g9kP0SdxlrsY"
   },
   "outputs": [
    {
     "name": "stderr",
     "output_type": "stream",
     "text": [
      "100%|██████████| 8000/8000 [00:03<00:00, 2274.91it/s]\n",
      "100%|██████████| 8000/8000 [00:03<00:00, 2111.62it/s]\n"
     ]
    }
   ],
   "source": [
    "from nltk.tokenize import WordPunctTokenizer\n",
    "from subword_nmt.learn_bpe import learn_bpe\n",
    "from subword_nmt.apply_bpe import BPE\n",
    "tokenizer = WordPunctTokenizer()\n",
    "def tokenize(x):\n",
    "    return ' '.join(tokenizer.tokenize(x.lower()))\n",
    "\n",
    "# split and tokenize the data\n",
    "with open('train.en', 'w', encoding='utf-8') as f_src,  open('train.ru', 'w', encoding='utf-8') as f_dst:\n",
    "    for line in open('data.txt', encoding='utf-8'):\n",
    "        src_line, dst_line = line.strip().split('\\t')\n",
    "        f_src.write(tokenize(src_line) + '\\n')\n",
    "        f_dst.write(tokenize(dst_line) + '\\n')\n",
    "\n",
    "# build and apply bpe vocs\n",
    "bpe = {}\n",
    "for lang in ['en', 'ru']:\n",
    "    learn_bpe(open('./train.' + lang, encoding='utf-8'), open('bpe_rules.' + lang, 'w', encoding='utf-8'), num_symbols=8000)\n",
    "    bpe[lang] = BPE(open('./bpe_rules.' + lang, encoding='utf-8'))\n",
    "    \n",
    "    with open('train.bpe.' + lang, 'w', encoding='utf-8') as f_out:\n",
    "        for line in open('train.' + lang, encoding='utf-8'):\n",
    "            f_out.write(bpe[lang].process_line(line.strip()) + '\\n')"
   ]
  },
  {
   "cell_type": "markdown",
   "metadata": {
    "colab_type": "text",
    "id": "0UPW3sV8lrsb"
   },
   "source": [
    "### Building vocabularies\n",
    "\n",
    "We now need to build vocabularies that map strings to token ids and vice versa. We're gonna need these fellas when we feed training data into model or convert output matrices into words."
   ]
  },
  {
   "cell_type": "code",
   "execution_count": 3,
   "metadata": {
    "colab": {},
    "colab_type": "code",
    "id": "CmTy_m_olrsb"
   },
   "outputs": [],
   "source": [
    "import numpy as np\n",
    "import matplotlib.pyplot as plt\n",
    "%matplotlib inline"
   ]
  },
  {
   "cell_type": "code",
   "execution_count": 4,
   "metadata": {
    "colab": {},
    "colab_type": "code",
    "id": "8PskgBSxlrsd"
   },
   "outputs": [
    {
     "name": "stdout",
     "output_type": "stream",
     "text": [
      "inp: на территории обустроена бесплатная частная парковка .\n",
      "out: free private parking is available on site .\n",
      "\n",
      "inp: кроме того , в 5 минутах ходьбы работают многочисленные бары и рестораны .\n",
      "out: guests can find many bars and restaurants within a 5 - minute walk .\n",
      "\n",
      "inp: отель san mi@@ gu@@ el расположен в центре мор@@ ели@@ и , в 750 метрах от главной площади города и кафедрального собора .\n",
      "out: hotel san miguel is located in central more@@ lia , 750 metres from the city ’ s main square and cathedral .\n",
      "\n"
     ]
    }
   ],
   "source": [
    "data_inp = np.array(open('./train.bpe.ru', encoding='utf-8').read().split('\\n'))\n",
    "data_out = np.array(open('./train.bpe.en', encoding='utf-8').read().split('\\n'))\n",
    "\n",
    "from sklearn.model_selection import train_test_split\n",
    "train_inp, dev_inp, train_out, dev_out = train_test_split(data_inp, data_out, test_size=3000,\n",
    "                                                          random_state=42)\n",
    "for i in range(3):\n",
    "    print('inp:', train_inp[i])\n",
    "    print('out:', train_out[i], end='\\n\\n')"
   ]
  },
  {
   "cell_type": "code",
   "execution_count": 5,
   "metadata": {
    "colab": {},
    "colab_type": "code",
    "id": "vipg4O61lrsg"
   },
   "outputs": [],
   "source": [
    "from vocab import Vocab\n",
    "inp_voc = Vocab.from_lines(train_inp)\n",
    "out_voc = Vocab.from_lines(train_out)"
   ]
  },
  {
   "cell_type": "code",
   "execution_count": 6,
   "metadata": {
    "colab": {},
    "colab_type": "code",
    "id": "cwOoHfuhlrsi"
   },
   "outputs": [
    {
     "name": "stdout",
     "output_type": "stream",
     "text": [
      "lines\n",
      "['гостевой дом r .', 'до афин — 20 км .', 'работает боулинг .', 'оборудован балкон .', 'подключен wi - fi .']\n",
      "\n",
      "words to ids (0 = bos, 1 = eos):\n",
      "tensor([[   0, 2688, 2943, 1108,   29,    1,    1,    1],\n",
      "        [   0, 2922, 1834, 8035,   59, 3800,   29,    1],\n",
      "        [   0, 6030, 2083,   29,    1,    1,    1,    1],\n",
      "        [   0, 4927, 1870,   29,    1,    1,    1,    1],\n",
      "        [   0, 5549, 1453,   27,  592,   29,    1,    1]])\n",
      "\n",
      "back to words\n",
      "['гостевой дом r .', 'до афин — 20 км .', 'работает боулинг .', 'оборудован балкон .', 'подключен wi - fi .']\n"
     ]
    }
   ],
   "source": [
    "# Here's how you cast lines into ids and backwards.\n",
    "batch_lines = sorted(train_inp, key=len)[5:10]\n",
    "batch_ids = inp_voc.to_matrix(batch_lines)\n",
    "batch_lines_restored = inp_voc.to_lines(batch_ids)\n",
    "\n",
    "print(\"lines\")\n",
    "print(batch_lines)\n",
    "print(\"\\nwords to ids (0 = bos, 1 = eos):\")\n",
    "print(batch_ids)\n",
    "print(\"\\nback to words\")\n",
    "print(batch_lines_restored)"
   ]
  },
  {
   "cell_type": "markdown",
   "metadata": {
    "colab_type": "text",
    "id": "gSYu-MkElrsk"
   },
   "source": [
    "Draw source and translation length distributions to estimate the scope of the task."
   ]
  },
  {
   "cell_type": "code",
   "execution_count": 7,
   "metadata": {
    "colab": {},
    "colab_type": "code",
    "id": "TLLl9cSNlrsl"
   },
   "outputs": [
    {
     "data": {
      "image/png": "[encoded data removed]",
      "text/plain": [
       "<Figure size 800x400 with 2 Axes>"
      ]
     },
     "metadata": {},
     "output_type": "display_data"
    }
   ],
   "source": [
    "plt.figure(figsize=[8, 4])\n",
    "plt.subplot(1, 2, 1)\n",
    "plt.title(\"source length\")\n",
    "plt.hist(list(map(len, map(str.split, train_inp))), bins=20);\n",
    "\n",
    "plt.subplot(1, 2, 2)\n",
    "plt.title(\"translation length\")\n",
    "plt.hist(list(map(len, map(str.split, train_out))), bins=20);"
   ]
  },
  {
   "cell_type": "markdown",
   "metadata": {
    "colab_type": "text",
    "id": "BHWgx34flrsn"
   },
   "source": [
    "### Encoder-decoder model\n",
    "\n",
    "The code below contains a template for a simple encoder-decoder model: single GRU encoder/decoder, no attention or anything. This model is implemented for you as a reference and a baseline for your homework assignment."
   ]
  },
  {
   "cell_type": "code",
   "execution_count": 8,
   "metadata": {
    "colab": {},
    "colab_type": "code",
    "id": "pd_rDRm9lrso"
   },
   "outputs": [],
   "source": [
    "import torch\n",
    "import torch.nn as nn\n",
    "import torch.nn.functional as F\n",
    "device = 'cuda' if torch.cuda.is_available() else 'cpu'"
   ]
  },
  {
   "cell_type": "code",
   "execution_count": 9,
   "metadata": {
    "colab": {},
    "colab_type": "code",
    "id": "wgfN5-F7lrst"
   },
   "outputs": [],
   "source": [
    "class BasicModel(nn.Module):\n",
    "    def __init__(self, inp_voc, out_voc, emb_size=64, hid_size=128):\n",
    "        \"\"\"\n",
    "        A simple encoder-decoder seq2seq model\n",
    "        \"\"\"\n",
    "        super().__init__() # initialize base class to track sub-layers, parameters, etc.\n",
    "\n",
    "        self.inp_voc, self.out_voc = inp_voc, out_voc\n",
    "        self.hid_size = hid_size\n",
    "        \n",
    "        self.emb_inp = nn.Embedding(len(inp_voc), emb_size)\n",
    "        self.emb_out = nn.Embedding(len(out_voc), emb_size)\n",
    "        self.enc0 = nn.GRU(emb_size, hid_size, batch_first=True)\n",
    "        self.dec_start = nn.Linear(hid_size, hid_size)\n",
    "        self.dec0 = nn.GRUCell(emb_size, hid_size)\n",
    "        self.logits = nn.Linear(hid_size, len(out_voc))\n",
    "        \n",
    "    def forward(self, inp, out):\n",
    "        \"\"\" Apply model in training mode \"\"\"\n",
    "        initial_state = self.encode(inp)\n",
    "        return self.decode(initial_state, out)\n",
    "\n",
    "\n",
    "    def encode(self, inp, **flags):\n",
    "        \"\"\"\n",
    "        Takes symbolic input sequence, computes initial state\n",
    "        :param inp: matrix of input tokens [batch, time]\n",
    "        :returns: initial decoder state tensors, one or many\n",
    "        \"\"\"\n",
    "        inp_emb = self.emb_inp(inp)\n",
    "        batch_size = inp.shape[0]\n",
    "        \n",
    "        enc_seq, [last_state_but_not_really] = self.enc0(inp_emb)\n",
    "        # enc_seq: [batch, time, hid_size], last_state: [batch, hid_size]\n",
    "        \n",
    "        # note: last_state is not _actually_ last because of padding, let's find the real last_state\n",
    "        lengths = (inp != self.inp_voc.eos_ix).to(torch.int64).sum(dim=1).clamp_max(inp.shape[1] - 1)\n",
    "        last_state = enc_seq[torch.arange(len(enc_seq)), lengths]\n",
    "        # ^-- shape: [batch_size, hid_size]\n",
    "        \n",
    "        dec_start = self.dec_start(last_state)\n",
    "        return [dec_start]\n",
    "\n",
    "    def decode_step(self, prev_state, prev_tokens, **flags):\n",
    "        \"\"\"\n",
    "        Takes previous decoder state and tokens, returns new state and logits for next tokens\n",
    "        :param prev_state: a list of previous decoder state tensors, same as returned by encode(...)\n",
    "        :param prev_tokens: previous output tokens, an int vector of [batch_size]\n",
    "        :return: a list of next decoder state tensors, a tensor of logits [batch, len(out_voc)]\n",
    "        \"\"\"\n",
    "        prev_gru0_state = prev_state[0]\n",
    "        prev_tokens = self.emb_out(prev_tokens)\n",
    "        new_dec_state = self.dec0(prev_tokens,prev_gru0_state)\n",
    "        output_logits = self.logits(new_dec_state)\n",
    "        \n",
    "\n",
    "        \n",
    "        \n",
    "        return [new_dec_state], output_logits\n",
    "\n",
    "    def decode(self, initial_state, out_tokens, **flags):\n",
    "        \"\"\" Iterate over reference tokens (out_tokens) with decode_step \"\"\"\n",
    "        batch_size = out_tokens.shape[0]\n",
    "        state = initial_state\n",
    "        \n",
    "        # initial logits: always predict BOS\n",
    "        onehot_bos = F.one_hot(torch.full([batch_size], self.out_voc.bos_ix, dtype=torch.int64),\n",
    "                               num_classes=len(self.out_voc)).to(device=out_tokens.device)\n",
    "        first_logits = torch.log(onehot_bos.to(torch.float32) + 1e-9)\n",
    "        \n",
    "        logits_sequence = [first_logits]\n",
    "        for i in range(out_tokens.shape[1] - 1):\n",
    "            state, logits = self.decode_step(state, out_tokens[:, i])\n",
    "            logits_sequence.append(logits)\n",
    "        return torch.stack(logits_sequence, dim=1)\n",
    "\n",
    "    def decode_inference(self, initial_state, max_len=100, **flags):\n",
    "        \"\"\" Generate translations from model (greedy version) \"\"\"\n",
    "        batch_size, device = len(initial_state[0]), initial_state[0].device\n",
    "        state = initial_state\n",
    "        outputs = [torch.full([batch_size], self.out_voc.bos_ix, dtype=torch.int64, \n",
    "                              device=device)]\n",
    "        all_states = [initial_state]\n",
    "\n",
    "        for i in range(max_len):\n",
    "            state, logits = self.decode_step(state, outputs[-1])\n",
    "            outputs.append(logits.argmax(dim=-1))\n",
    "            all_states.append(state)\n",
    "        \n",
    "        return torch.stack(outputs, dim=1), all_states\n",
    "\n",
    "    def translate_lines(self, inp_lines, **kwargs):\n",
    "        inp = self.inp_voc.to_matrix(inp_lines).to(device)\n",
    "        initial_state = self.encode(inp)\n",
    "        out_ids, states = self.decode_inference(initial_state, **kwargs)\n",
    "        return self.out_voc.to_lines(out_ids.cpu().numpy()), states\n"
   ]
  },
  {
   "cell_type": "code",
   "execution_count": 10,
   "metadata": {},
   "outputs": [],
   "source": [
    "# debugging area\n",
    "model = BasicModel(inp_voc, out_voc).to(device)\n",
    "\n",
    "dummy_inp_tokens = inp_voc.to_matrix(sorted(train_inp, key=len)[5:10]).to(device)\n",
    "dummy_out_tokens = out_voc.to_matrix(sorted(train_out, key=len)[5:10]).to(device)\n",
    "\n",
    "h0 = model.encode(dummy_inp_tokens)\n",
    "h1, logits1 = model.decode_step(h0, torch.arange(len(dummy_inp_tokens), device=device))\n",
    "\n",
    "assert isinstance(h1, list) and len(h1) == len(h0)\n",
    "assert h1[0].shape == h0[0].shape and not torch.allclose(h1[0], h0[0])\n",
    "assert logits1.shape == (len(dummy_inp_tokens), len(out_voc))\n",
    "\n",
    "logits_seq = model.decode(h0, dummy_out_tokens)\n",
    "assert logits_seq.shape == (dummy_out_tokens.shape[0], dummy_out_tokens.shape[1], len(out_voc))\n",
    "\n",
    "# full forward\n",
    "logits_seq2 = model(dummy_inp_tokens, dummy_out_tokens)\n",
    "assert logits_seq2.shape == logits_seq.shape"
   ]
  },
  {
   "cell_type": "code",
   "execution_count": 11,
   "metadata": {},
   "outputs": [
    {
     "name": "stdout",
     "output_type": "stream",
     "text": [
      "Translations without training:\n",
      "verd@@ re comfortable ne@@ karlovy tir@@ mus@@ dio christ@@ waffles fish ő bel@@ dutch otel palau palau phi@@ lunches garni lement xa wu@@ ioned dio\n",
      "at@@ verd@@ ines georgian alle bottled period vacan@@ terracotta ques 2000 zermatt zermatt ell ath@@ bahia lement 10@@ forward this ha@@ bedroom hairdryers pl@@ organic\n",
      "verd@@ re comfortable ne@@ karlovy tir@@ mus@@ dio christ@@ waffles fish ő bel@@ dutch otel palau palau phi@@ lunches garni lement xa wu@@ ioned dio\n"
     ]
    }
   ],
   "source": [
    "dummy_translations, dummy_states = model.translate_lines(train_inp[:3], max_len=25)\n",
    "print(\"Translations without training:\")\n",
    "print('\\n'.join([line for line in dummy_translations]))"
   ]
  },
  {
   "cell_type": "markdown",
   "metadata": {
    "colab_type": "text",
    "id": "_wuv1-aVlrs0"
   },
   "source": [
    "### Training loss (2 points)\n",
    "\n",
    "Our training objective is almost the same as it was for neural language models:\n",
    "$$ L = {\\frac1{|D|}} \\sum_{X, Y \\in D} \\sum_{y_t \\in Y} - \\log p(y_t \\mid y_1, \\dots, y_{t-1}, X, \\theta) $$\n",
    "\n",
    "where $|D|$ is the __total length of all sequences__, including BOS and first EOS, but excluding PAD."
   ]
  },
  {
   "cell_type": "code",
   "execution_count": 12,
   "metadata": {
    "colab": {},
    "colab_type": "code",
    "id": "c8XPV8sWlrs5",
    "scrolled": true
   },
   "outputs": [],
   "source": [
    "\n",
    "def compute_loss(model, inp, out, **flags):\n",
    "    \"\"\"\n",
    "    Compute loss (float32 scalar) as in the formula above\n",
    "    :param inp: input tokens matrix, int32[batch, time]\n",
    "    :param out: reference tokens matrix, int32[batch, time]\n",
    "    \n",
    "    In order to pass the tests, your function should\n",
    "    * include loss at first EOS but not the subsequent ones\n",
    "    * divide sum of losses by a sum of input lengths (use voc.compute_mask)\n",
    "    \"\"\"\n",
    "    mask = model.out_voc.compute_mask(out) # [batch_size, out_len]\n",
    "    targets_1hot = F.one_hot(out, len(model.out_voc)).to(torch.int)\n",
    "    # outputs of the model, [batch_size, out_len, num_tokens]\n",
    "    logits_seq = model(inp,out)\n",
    "    \n",
    "\n",
    "    # log-probabilities of all tokens at all steps, [batch_size, out_len, num_tokens]\n",
    "    logprobs_seq = nn.functional.log_softmax(logits_seq,-1)\n",
    "   \n",
    "    # log-probabilities of correct outputs, [batch_size, out_len]\n",
    "    logp_out = -(logprobs_seq * targets_1hot).sum(dim=-1)\n",
    "    # ^-- this will select the probability of the actual next token.\n",
    "    # Note: you can compute loss more efficiently using using F.cross_entropy\n",
    "    # average cross-entropy over tokens where mask == True\n",
    "    return torch.mean((logp_out* mask).sum(dim=-1)/mask.sum(dim=-1)) # average loss, scalar"
   ]
  },
  {
   "cell_type": "code",
   "execution_count": 13,
   "metadata": {
    "colab": {},
    "colab_type": "code",
    "id": "ME_LWUeklrs7"
   },
   "outputs": [
    {
     "name": "stdout",
     "output_type": "stream",
     "text": [
      "Loss: tensor(7.4576, device='cuda:0', grad_fn=<MeanBackward0>)\n"
     ]
    }
   ],
   "source": [
    "dummy_loss = compute_loss(model, dummy_inp_tokens, dummy_out_tokens)\n",
    "print(\"Loss:\", dummy_loss)\n",
    "assert np.allclose(dummy_loss.item(), 7.5, rtol=0.1, atol=0.1), \"We're sorry for your loss\"\n",
    "\n",
    "# test autograd\n",
    "dummy_loss.backward()\n",
    "for name, param in model.named_parameters():\n",
    "    assert param.grad is not None and abs(param.grad.max()) != 0, f\"Param {name} received no gradients\""
   ]
  },
  {
   "cell_type": "markdown",
   "metadata": {
    "colab_type": "text",
    "id": "HpbaBpW7lrs-"
   },
   "source": [
    "### Evaluation: BLEU\n",
    "\n",
    "Machine translation is commonly evaluated with [BLEU](https://en.wikipedia.org/wiki/BLEU) score. This metric simply computes which fraction of predicted n-grams is actually present in the reference translation. It does so for n=1,2,3 and 4 and computes the geometric average with penalty if translation is shorter than reference.\n",
    "\n",
    "While BLEU [has many drawbacks](http://www.cs.jhu.edu/~ccb/publications/re-evaluating-the-role-of-bleu-in-mt-research.pdf), it still remains the most commonly used metric and one of the simplest to compute."
   ]
  },
  {
   "cell_type": "code",
   "execution_count": 14,
   "metadata": {
    "colab": {},
    "colab_type": "code",
    "id": "Gb1-PhKIlrs-"
   },
   "outputs": [],
   "source": [
    "from nltk.translate.bleu_score import corpus_bleu\n",
    "def compute_bleu(model, inp_lines, out_lines, bpe_sep='@@ ', **flags):\n",
    "    \"\"\"\n",
    "    Estimates corpora-level BLEU score of model's translations given inp and reference out\n",
    "    Note: if you're serious about reporting your results, use https://pypi.org/project/sacrebleu\n",
    "    \"\"\"\n",
    "    with torch.no_grad():\n",
    "        translations, _ = model.translate_lines(inp_lines, **flags)\n",
    "        translations = [line.replace(bpe_sep, '') for line in translations]\n",
    "        actual = [line.replace(bpe_sep, '') for line in out_lines]\n",
    "        return corpus_bleu(\n",
    "            [[ref.split()] for ref in actual],\n",
    "            [trans.split() for trans in translations],\n",
    "            smoothing_function=lambda precisions, **kw: [p + 1.0 / p.denominator for p in precisions]\n",
    "            ) * 100"
   ]
  },
  {
   "cell_type": "code",
   "execution_count": 15,
   "metadata": {
    "colab": {},
    "colab_type": "code",
    "id": "gZvfid1RlrtA"
   },
   "outputs": [
    {
     "data": {
      "text/plain": [
       "39.51882613244048"
      ]
     },
     "execution_count": 15,
     "metadata": {},
     "output_type": "execute_result"
    }
   ],
   "source": [
    "compute_bleu(model, dev_inp, dev_out)"
   ]
  },
  {
   "cell_type": "markdown",
   "metadata": {
    "colab_type": "text",
    "id": "nQDhGwg4lrtC"
   },
   "source": [
    "### Training loop\n",
    "\n",
    "Training encoder-decoder models isn't that different from any other models: sample batches, compute loss, backprop and update"
   ]
  },
  {
   "cell_type": "code",
   "execution_count": 78,
   "metadata": {
    "colab": {},
    "colab_type": "code",
    "id": "yfwIaixHlrtI",
    "scrolled": false
   },
   "outputs": [],
   "source": [
    "from IPython.display import clear_output\n",
    "from tqdm import tqdm, trange\n",
    "metrics = {'train_loss': [], 'dev_bleu': [] }\n",
    "\n",
    "model = BasicModel(inp_voc, out_voc).to(device)\n",
    "opt = torch.optim.Adam(model.parameters(), lr=1e-3)\n",
    "batch_size = 32"
   ]
  },
  {
   "cell_type": "code",
   "execution_count": 80,
   "metadata": {
    "colab": {},
    "colab_type": "code",
    "id": "LlDT6eDUlrtL",
    "scrolled": true
   },
   "outputs": [
    {
     "data": {
      "image/png": "[encoded data removed]",
      "text/plain": [
       "<Figure size 1200x400 with 2 Axes>"
      ]
     },
     "metadata": {},
     "output_type": "display_data"
    },
    {
     "name": "stdout",
     "output_type": "stream",
     "text": [
      "Mean loss=1.493\n"
     ]
    },
    {
     "name": "stderr",
     "output_type": "stream",
     "text": [
      "100%|██████████| 25000/25000 [14:18<00:00, 29.12it/s]\n"
     ]
    }
   ],
   "source": [
    "for _ in trange(25000):\n",
    "    opt.zero_grad()\n",
    "    step = len(metrics['train_loss']) + 1\n",
    "    batch_ix = np.random.randint(len(train_inp), size=batch_size)\n",
    "    batch_inp = inp_voc.to_matrix(train_inp[batch_ix]).to(device)\n",
    "    batch_out = out_voc.to_matrix(train_out[batch_ix]).to(device)\n",
    "    \n",
    "    loss_t = compute_loss(model,batch_inp,batch_out)\n",
    "\n",
    "    loss_t.backward()\n",
    "    opt.step()\n",
    "    metrics['train_loss'].append((step, loss_t.item()))\n",
    "    \n",
    "    if step % 100 == 0:\n",
    "        metrics['dev_bleu'].append((step, compute_bleu(model, dev_inp, dev_out)))\n",
    "        \n",
    "        clear_output(True)\n",
    "        plt.figure(figsize=(12,4))\n",
    "        for i, (name, history) in enumerate(sorted(metrics.items())):\n",
    "            plt.subplot(1, len(metrics), i + 1)\n",
    "            plt.title(name)\n",
    "            plt.plot(*zip(*history))\n",
    "            plt.grid()\n",
    "        plt.show()\n",
    "        print(\"Mean loss=%.3f\" % np.mean(metrics['train_loss'][-10:], axis=0)[1], flush=True)\n",
    "        \n",
    "# Note: it's okay if bleu oscillates up and down as long as it gets better on average over long term (e.g. 5k batches)"
   ]
  },
  {
   "cell_type": "code",
   "execution_count": 81,
   "metadata": {
    "colab": {},
    "colab_type": "code",
    "id": "2ahuhKVhlrtP"
   },
   "outputs": [],
   "source": [
    "assert np.mean(metrics['dev_bleu'][-10:], axis=0)[1] > 15, \"We kind of need a higher bleu BLEU from you. Kind of right now.\""
   ]
  },
  {
   "cell_type": "code",
   "execution_count": 82,
   "metadata": {
    "colab": {},
    "colab_type": "code",
    "id": "KyaHOpealrtS"
   },
   "outputs": [
    {
     "name": "stdout",
     "output_type": "stream",
     "text": [
      "в распоряжении гостей общая кухня и общая гостиная .\n",
      "you will find a shared kitchen with a shared kitchen and a shared kitchen .\n",
      "\n",
      "кроме того , предоставляется прокат велосипедов , услуги трансфера и бесплатная парковка .\n",
      "free shuttle services and free parking are available .\n",
      "\n",
      "расстояние до города ки@@ сси@@ м@@ ми составляет 26 км .\n",
      "arena of the town of kotor is 26 km away .\n",
      "\n",
      "апартаменты в пент@@ хаусе с общим открытым бассейном , садом , кондиционером и террасой для загара расположены в 5 минутах ходьбы от пляжа на курорте ка@@ бо - рой .\n",
      "located just a 5 - minute walk from the beach , the cycladic - house features a garden with an outdoor pool and a garden .\n",
      "\n",
      "апартаменты mo@@ s@@ co@@ w point - loft red square находятся в москве , в 200 метрах от большого театра .\n",
      "apartments at the apartments of the city centre is 200 metres from apartment on site .\n",
      "\n",
      "в вашем распоряжении собственная ванная комната с душем и полотенцами .\n",
      "the private bathrooms are fitted with a shower and towels .\n",
      "\n"
     ]
    }
   ],
   "source": [
    "for inp_line, trans_line in zip(dev_inp[::500], model.translate_lines(dev_inp[::500])[0]):\n",
    "    print(inp_line)\n",
    "    print(trans_line)\n",
    "    print()"
   ]
  },
  {
   "cell_type": "markdown",
   "metadata": {
    "colab_type": "text",
    "id": "edk_oVg0lrtW"
   },
   "source": [
    "### Your Attention Required\n",
    "\n",
    "In this section we want you to improve over the basic model by implementing a simple attention mechanism.\n",
    "\n",
    "This is gonna be a two-parter: building the __attention layer__ and using it for an __attentive seq2seq model__."
   ]
  },
  {
   "cell_type": "markdown",
   "metadata": {
    "colab_type": "text",
    "id": "Qz9aROAIlrtX"
   },
   "source": [
    "### Attention layer (3 points)\n",
    "\n",
    "Here you will have to implement a layer that computes a simple additive attention:\n",
    "\n",
    "Given encoder sequence $ h^e_0, h^e_1, h^e_2, ..., h^e_T$ and a single decoder state $h^d$,\n",
    "\n",
    "* Compute logits with a 2-layer neural network\n",
    "$$a_t = linear_{out}(tanh(linear_{e}(h^e_t) + linear_{d}(h_d)))$$\n",
    "* Get probabilities from logits, \n",
    "$$ p_t = {{e ^ {a_t}} \\over { \\sum_\\tau e^{a_\\tau} }} $$\n",
    "\n",
    "* Add up encoder states with probabilities to get __attention response__\n",
    "$$ attn = \\sum_t p_t \\cdot h^e_t $$\n",
    "\n",
    "You can learn more about attention layers in the lecture slides or [from this post](https://distill.pub/2016/augmented-rnns/)."
   ]
  },
  {
   "cell_type": "code",
   "execution_count": 16,
   "metadata": {},
   "outputs": [],
   "source": [
    "class AttentionLayer(nn.Module):\n",
    "    def __init__(self, name, enc_size, dec_size, hid_size, activ=torch.tanh):\n",
    "        \"\"\" A layer that computes additive attention response and weights \"\"\"\n",
    "        super().__init__()\n",
    "        self.name = name\n",
    "        self.enc_size = enc_size # num units in encoder state\n",
    "        self.dec_size = dec_size # num units in decoder state\n",
    "        self.hid_size = hid_size # attention layer hidden units\n",
    "        self.activ = activ       # attention layer hidden nonlinearity\n",
    "        self.softmax = nn.Softmax(dim=-1)\n",
    "        \n",
    "\n",
    "        # create trainable paramteres like this:\n",
    "        # self.<PARAMETER_NAME> = nn.Parameter(<INITIAL_VALUES>, requires_grad=True)\n",
    "        # <...>  # you will need a couple of these\n",
    "\n",
    "        self.enc = nn.Parameter(torch.randn(enc_size,hid_size))\n",
    "        self.dec = nn.Parameter(torch.randn(dec_size,hid_size))\n",
    "        self.hid = nn.Parameter(torch.randn(hid_size,1))\n",
    "\n",
    "        # self.enc = nn.Linear(enc_size,hid_size)\n",
    "        # self.dec = nn.Linear(dec_size,hid_size)\n",
    "        # self.hid = nn.Linear(hid_size,1)\n",
    "        \n",
    "\n",
    "    def forward(self, enc, dec, inp_mask):\n",
    "        \"\"\"\n",
    "        Computes attention response and weights\n",
    "        :param enc: encoder activation sequence, float32[batch_size, ninp, enc_size]\n",
    "        :param dec: single decoder state used as \"query\", float32[batch_size, dec_size]\n",
    "        :param inp_mask: mask on enc activatons (0 after first eos), float32 [batch_size, ninp]\n",
    "        :returns: attn[batch_size, enc_size], probs[batch_size, ninp]\n",
    "            - attn - attention response vector (weighted sum of enc)\n",
    "            - probs - attention weights after softmax\n",
    "        \"\"\"\n",
    "        enc_h = enc@self.enc\n",
    "        dec_h = dec.unsqueeze(1)@self.dec\n",
    "        a = self.activ((enc_h+dec_h.expand(enc_h.shape)))@self.hid\n",
    "        a = a.squeeze(-1)\n",
    "\n",
    "        # Apply mask - if mask is 0, logits should be -inf or -1e9\n",
    "        # You may need torch.where\n",
    "        a = a+(-1e9)**(inp_mask*-1+1)-1\n",
    "\n",
    "        # Compute attention probabilities (softmax)\n",
    "        probs = self.softmax(a)\n",
    "        # Compute attention response using enc and probs\n",
    "        attn = torch.bmm(probs.unsqueeze(1),enc).squeeze(1)\n",
    "        probs = probs.detach()\n",
    "\n",
    "        return attn, probs"
   ]
  },
  {
   "cell_type": "markdown",
   "metadata": {
    "colab_type": "text",
    "id": "IalfpdAelrtb"
   },
   "source": [
    "### Seq2seq model with attention (3 points)\n",
    "\n",
    "You can now use the attention layer to build a network. The simplest way to implement attention is to use it in decoder phase:\n",
    "![img](https://i.imgur.com/6fKHlHb.png)\n",
    "_image from distill.pub [article](https://distill.pub/2016/augmented-rnns/)_\n",
    "\n",
    "On every step, use __previous__ decoder state to obtain attention response. Then feed concat this response to the inputs of next attention layer.\n",
    "\n",
    "The key implementation detail here is __model state__. Put simply, you can add any tensor into the list of `encode` outputs. You will then have access to them at each `decode` step. This may include:\n",
    "* Last RNN hidden states (as in basic model)\n",
    "* The whole sequence of encoder outputs (to attend to) and mask\n",
    "* Attention probabilities (to visualize)\n",
    "\n",
    "_There are, of course, alternative ways to wire attention into your network and different kinds of attention. Take a look at [this](https://arxiv.org/abs/1609.08144), [this](https://arxiv.org/abs/1706.03762) and [this](https://arxiv.org/abs/1808.03867) for ideas. And for image captioning/im2latex there's [visual attention](https://arxiv.org/abs/1502.03044)_"
   ]
  },
  {
   "cell_type": "code",
   "execution_count": 17,
   "metadata": {
    "colab": {},
    "colab_type": "code",
    "id": "NCKPB5JmcE6j"
   },
   "outputs": [],
   "source": [
    "class AttentiveModel(BasicModel):\n",
    "    def __init__(self, name, inp_voc, out_voc,\n",
    "                 emb_size=64, hid_size=128, attn_size=128):\n",
    "        \"\"\" Translation model that uses attention. See instructions above. \"\"\"\n",
    "        # nn.Module.__init__(self)  # initialize base class to track sub-layers, trainable variables, etc.\n",
    "        super(AttentiveModel,self).__init__(inp_voc,out_voc,emb_size,hid_size)\n",
    "    \n",
    "        self.attn = AttentionLayer(name,hid_size,hid_size,attn_size)\n",
    "        \n",
    "\n",
    "    def encode(self, inp, **flags):\n",
    "        \"\"\"\n",
    "        Takes symbolic input sequence, computes initial state\n",
    "        :param inp: matrix of input tokens [batch, time]\n",
    "        :returns: initial decoder state tensors, one or many\n",
    "        \"\"\"\n",
    "        inp_emb = self.emb_inp(inp)\n",
    "        \n",
    "        self.enc_seq, [last_state_but_not_really] = self.enc0(inp_emb)\n",
    "        # enc_seq: [batch, time, hid_size], last_state: [batch, hid_size]\n",
    "        \n",
    "        # note: last_state is not _actually_ last because of padding, let's find the real last_state\n",
    "        lengths = (inp != self.inp_voc.eos_ix).to(torch.int64).sum(dim=1).clamp_max(inp.shape[1] - 1)\n",
    "        last_state = self.enc_seq[torch.arange(len(self.enc_seq)), lengths]\n",
    "        # ^-- shape: [batch_size, hid_size]\n",
    "        \n",
    "        dec_start = torch.zeros(self.enc_seq.shape[0],self.enc_seq.shape[-1]).to(device)\n",
    "        \n",
    "        \n",
    "        # apply attention layer from initial decoder hidden state\n",
    "        self.mask = self.inp_voc.compute_mask(inp)\n",
    "        attn_response,first_attn_probas = self.attn(self.enc_seq,dec_start,self.mask)\n",
    "        \n",
    "        # Build first state: include\n",
    "        # * initial states for decoder recurrent layers\n",
    "        # * encoder sequence and encoder attn mask (for attention)\n",
    "        # * make sure that last state item is attention probabilities tensor\n",
    "        \n",
    "\n",
    "        return dec_start,first_attn_probas,attn_response\n",
    "   \n",
    "    def decode_step(self, prev_state, prev_tokens, **flags):\n",
    "        \"\"\"\n",
    "        Takes previous decoder state and tokens, returns new state and logits for next tokens\n",
    "        :param prev_state: a list of previous decoder state tensors\n",
    "        :param prev_tokens: previous output tokens, an int vector of [batch_size]\n",
    "        :return: a list of next decoder state tensors, a tensor of logits [batch, n_tokens]\n",
    "        \"\"\"\n",
    "        prev_gru0_state,_,attn = prev_state\n",
    "        prev_tokens = self.emb_out(prev_tokens)\n",
    "        new_dec_state = self.dec0(prev_tokens,prev_gru0_state+attn)\n",
    "        attn,probas = self.attn(self.enc_seq,new_dec_state,self.mask)\n",
    "        output_logits = self.logits(new_dec_state)\n",
    "    \n",
    "        \n",
    "        \n",
    "        \n",
    "        return [new_dec_state,probas,attn], output_logits\n"
   ]
  },
  {
   "cell_type": "markdown",
   "metadata": {
    "colab_type": "text",
    "id": "ryZCOTEslrtf"
   },
   "source": [
    "### Training attentive model\n",
    "\n",
    "Please reuse the infrastructure you've built for the regular model. I hope you didn't hard-code anything :)"
   ]
  },
  {
   "cell_type": "code",
   "execution_count": 18,
   "metadata": {},
   "outputs": [],
   "source": [
    "from IPython.display import clear_output\n",
    "from tqdm import tqdm, trange\n",
    "metrics = {'train_loss': [], 'dev_bleu': [] }\n",
    "lr = 1e-3\n",
    "model = AttentiveModel(\"a\",inp_voc, out_voc,emb_size = 128,hid_size=256,attn_size=256).to(device)\n",
    "opt = torch.optim.AdamW(model.parameters(), lr=lr)\n",
    "batch_size = 128"
   ]
  },
  {
   "cell_type": "code",
   "execution_count": 19,
   "metadata": {},
   "outputs": [],
   "source": [
    "def collate_fn(x):\n",
    "    x = np.array(x)\n",
    "    return (inp_voc.to_matrix(x[:,0]),out_voc.to_matrix(x[:,1]))"
   ]
  },
  {
   "cell_type": "code",
   "execution_count": 20,
   "metadata": {},
   "outputs": [],
   "source": [
    "from torch.utils.data import DataLoader\n",
    "dataset = np.vstack((train_inp,train_out)).T\n",
    "loader = DataLoader(dataset,batch_size=batch_size,shuffle=True,collate_fn= collate_fn,num_workers=0,drop_last=True,pin_memory=True)"
   ]
  },
  {
   "cell_type": "code",
   "execution_count": 33,
   "metadata": {
    "colab": {},
    "colab_type": "code",
    "id": "-YMHPgZxcFaQ"
   },
   "outputs": [
    {
     "data": {
      "image/png": "[encoded data removed]",
      "text/plain": [
       "<Figure size 1200x400 with 2 Axes>"
      ]
     },
     "metadata": {},
     "output_type": "display_data"
    },
    {
     "name": "stdout",
     "output_type": "stream",
     "text": [
      "Mean loss=0.137\n"
     ]
    }
   ],
   "source": [
    "import gc\n",
    "EPOCHS = 20\n",
    "batch_size = 32\n",
    "for stage in range(1,9):\n",
    "    del loader\n",
    "    gc.collect()\n",
    "    torch.cuda.empty_cache()\n",
    "    loader = DataLoader(dataset,batch_size=batch_size*stage,shuffle=True,collate_fn= collate_fn,num_workers=0,drop_last=True,pin_memory=True)\n",
    "    for epoch in range(EPOCHS):\n",
    "        opt.param_groups[0]['lr'] = lr - (lr*(epoch/EPOCHS))**2\n",
    "        for batch_inp,batch_out in tqdm(loader,f\"{epoch}/{EPOCHS}\"):\n",
    "            opt.zero_grad()\n",
    "            step = len(metrics['train_loss']) + 1\n",
    "            batch_inp = batch_inp.to(device)\n",
    "            batch_out = batch_out.to(device)\n",
    "            loss_t = compute_loss(model,batch_inp,batch_out)\n",
    "\n",
    "            loss_t.backward()\n",
    "            opt.step()\n",
    "            metrics['train_loss'].append((step, loss_t.item()))\n",
    "            \n",
    "        metrics['dev_bleu'].append((step, compute_bleu(model, dev_inp, dev_out)))\n",
    "        \n",
    "        clear_output(True)\n",
    "        plt.figure(figsize=(12,4))\n",
    "        for i, (name, history) in enumerate(sorted(metrics.items())):\n",
    "            plt.subplot(1, len(metrics), i + 1)\n",
    "            plt.title(name)\n",
    "            plt.plot(*zip(*history))\n",
    "            plt.grid()\n",
    "        plt.show()\n",
    "        print(\"Mean loss=%.3f\" % np.mean(metrics['train_loss'][-10:], axis=0)[1], flush=True)\n",
    "            \n",
    "# Note: it's okay if bleu oscillates up and down as long as it gets better on average over long term (e.g. 5k batches)"
   ]
  },
  {
   "cell_type": "markdown",
   "metadata": {},
   "source": [
    "### Visualizing model attention (2 points)\n",
    "\n",
    "After training the attentive translation model, you can check it's sanity by visualizing its attention weights.\n",
    "\n",
    "We provided you with a function that draws attention maps using [`Bokeh`](https://bokeh.pydata.org/en/latest/index.html). Once you managed to produce something better than random noise, please save at least 3 attention maps and __submit them to anytask__ alongside this notebook to get the max grade. Saving bokeh figures as __cell outputs is not enough!__ (TAs can't see saved bokeh figures in anytask). You can save bokeh images as screenshots or using this button:\n",
    "\n",
    "![bokeh_panel](https://github.com/yandexdataschool/nlp_course/raw/2019/resources/bokeh_panel.png)\n",
    "\n",
    "__Note:__ you're not locked into using bokeh. If you prefer a different visualization method, feel free to use that instead of bokeh."
   ]
  },
  {
   "cell_type": "code",
   "execution_count": 35,
   "metadata": {},
   "outputs": [
    {
     "data": {
      "text/html": [
       "    <style>\n",
       "        .bk-notebook-logo {\n",
       "            display: block;\n",
       "            width: 20px;\n",
       "            height: 20px;\n",
       "            background-image: url(data:image/png;base64,iVBORw0KGgoAAAANSUhEUgAAABQAAAAUCAYAAACNiR0NAAAABHNCSVQICAgIfAhkiAAAAAlwSFlzAAALEgAACxIB0t1+/AAAABx0RVh0U29mdHdhcmUAQWRvYmUgRmlyZXdvcmtzIENTNui8sowAAAOkSURBVDiNjZRtaJVlGMd/1/08zzln5zjP1LWcU9N0NkN8m2CYjpgQYQXqSs0I84OLIC0hkEKoPtiH3gmKoiJDU7QpLgoLjLIQCpEsNJ1vqUOdO7ppbuec5+V+rj4ctwzd8IIbbi6u+8f1539dt3A78eXC7QizUF7gyV1fD1Yqg4JWz84yffhm0qkFqBogB9rM8tZdtwVsPUhWhGcFJngGeWrPzHm5oaMmkfEg1usvLFyc8jLRqDOMru7AyC8saQr7GG7f5fvDeH7Ej8CM66nIF+8yngt6HWaKh7k49Soy9nXurCi1o3qUbS3zWfrYeQDTB/Qj6kX6Ybhw4B+bOYoLKCC9H3Nu/leUTZ1JdRWkkn2ldcCamzrcf47KKXdAJllSlxAOkRgyHsGC/zRday5Qld9DyoM4/q/rUoy/CXh3jzOu3bHUVZeU+DEn8FInkPBFlu3+nW3Nw0mk6vCDiWg8CeJaxEwuHS3+z5RgY+YBR6V1Z1nxSOfoaPa4LASWxxdNp+VWTk7+4vzaou8v8PN+xo+KY2xsw6une2frhw05CTYOmQvsEhjhWjn0bmXPjpE1+kplmmkP3suftwTubK9Vq22qKmrBhpY4jvd5afdRA3wGjFAgcnTK2s4hY0/GPNIb0nErGMCRxWOOX64Z8RAC4oCXdklmEvcL8o0BfkNK4lUg9HTl+oPlQxdNo3Mg4Nv175e/1LDGzZen30MEjRUtmXSfiTVu1kK8W4txyV6BMKlbgk3lMwYCiusNy9fVfvvwMxv8Ynl6vxoByANLTWplvuj/nF9m2+PDtt1eiHPBr1oIfhCChQMBw6Aw0UulqTKZdfVvfG7VcfIqLG9bcldL/+pdWTLxLUy8Qq38heUIjh4XlzZxzQm19lLFlr8vdQ97rjZVOLf8nclzckbcD4wxXMidpX30sFd37Fv/GtwwhzhxGVAprjbg0gCAEeIgwCZyTV2Z1REEW8O4py0wsjeloKoMr6iCY6dP92H6Vw/oTyICIthibxjm/DfN9lVz8IqtqKYLUXfoKVMVQVVJOElGjrnnUt9T9wbgp8AyYKaGlqingHZU/uG2NTZSVqwHQTWkx9hxjkpWDaCg6Ckj5qebgBVbT3V3NNXMSiWSDdGV3hrtzla7J+duwPOToIg42ChPQOQjspnSlp1V+Gjdged7+8UN5CRAV7a5EdFNwCjEaBR27b3W890TE7g24NAP/mMDXRWrGoFPQI9ls/MWO2dWFAar/xcOIImbbpA3zgAAAABJRU5ErkJggg==);\n",
       "        }\n",
       "    </style>\n",
       "    <div>\n",
       "        <a href=\"https://bokeh.org\" target=\"_blank\" class=\"bk-notebook-logo\"></a>\n",
       "        <span id=\"d8b3c667-21e4-4696-aa27-19297160ae02\">Loading BokehJS ...</span>\n",
       "    </div>\n"
      ]
     },
     "metadata": {},
     "output_type": "display_data"
    },
    {
     "data": {
      "application/javascript": "'use strict';\n(function(root) {\n  function now() {\n    return new Date();\n  }\n\n  const force = true;\n\n  if (typeof root._bokeh_onload_callbacks === \"undefined\" || force === true) {\n    root._bokeh_onload_callbacks = [];\n    root._bokeh_is_loading = undefined;\n  }\n\nconst JS_MIME_TYPE = 'application/javascript';\n  const HTML_MIME_TYPE = 'text/html';\n  const EXEC_MIME_TYPE = 'application/vnd.bokehjs_exec.v0+json';\n  const CLASS_NAME = 'output_bokeh rendered_html';\n\n  /**\n   * Render data to the DOM node\n   */\n  function render(props, node) {\n    const script = document.createElement(\"script\");\n    node.appendChild(script);\n  }\n\n  /**\n   * Handle when an output is cleared or removed\n   */\n  function handleClearOutput(event, handle) {\n    function drop(id) {\n      const view = Bokeh.index.get_by_id(id)\n      if (view != null) {\n        view.model.document.clear()\n        Bokeh.index.delete(view)\n      }\n    }\n\n    const cell = handle.cell;\n\n    const id = cell.output_area._bokeh_element_id;\n    const server_id = cell.output_area._bokeh_server_id;\n\n    // Clean up Bokeh references\n    if (id != null) {\n      drop(id)\n    }\n\n    if (server_id !== undefined) {\n      // Clean up Bokeh references\n      const cmd_clean = \"from bokeh.io.state import curstate; print(curstate().uuid_to_server['\" + server_id + \"'].get_sessions()[0].document.roots[0]._id)\";\n      cell.notebook.kernel.execute(cmd_clean, {\n        iopub: {\n          output: function(msg) {\n            const id = msg.content.text.trim()\n            drop(id)\n          }\n        }\n      });\n      // Destroy server and session\n      const cmd_destroy = \"import bokeh.io.notebook as ion; ion.destroy_server('\" + server_id + \"')\";\n      cell.notebook.kernel.execute(cmd_destroy);\n    }\n  }\n\n  /**\n   * Handle when a new output is added\n   */\n  function handleAddOutput(event, handle) {\n    const output_area = handle.output_area;\n    const output = handle.output;\n\n    // limit handleAddOutput to display_data with EXEC_MIME_TYPE content only\n    if ((output.output_type != \"display_data\") || (!Object.prototype.hasOwnProperty.call(output.data, EXEC_MIME_TYPE))) {\n      return\n    }\n\n    const toinsert = output_area.element.find(\".\" + CLASS_NAME.split(' ')[0]);\n\n    if (output.metadata[EXEC_MIME_TYPE][\"id\"] !== undefined) {\n      toinsert[toinsert.length - 1].firstChild.textContent = output.data[JS_MIME_TYPE];\n      // store reference to embed id on output_area\n      output_area._bokeh_element_id = output.metadata[EXEC_MIME_TYPE][\"id\"];\n    }\n    if (output.metadata[EXEC_MIME_TYPE][\"server_id\"] !== undefined) {\n      const bk_div = document.createElement(\"div\");\n      bk_div.innerHTML = output.data[HTML_MIME_TYPE];\n      const script_attrs = bk_div.children[0].attributes;\n      for (let i = 0; i < script_attrs.length; i++) {\n        toinsert[toinsert.length - 1].firstChild.setAttribute(script_attrs[i].name, script_attrs[i].value);\n        toinsert[toinsert.length - 1].firstChild.textContent = bk_div.children[0].textContent\n      }\n      // store reference to server id on output_area\n      output_area._bokeh_server_id = output.metadata[EXEC_MIME_TYPE][\"server_id\"];\n    }\n  }\n\n  function register_renderer(events, OutputArea) {\n\n    function append_mime(data, metadata, element) {\n      // create a DOM node to render to\n      const toinsert = this.create_output_subarea(\n        metadata,\n        CLASS_NAME,\n        EXEC_MIME_TYPE\n      );\n      this.keyboard_manager.register_events(toinsert);\n      // Render to node\n      const props = {data: data, metadata: metadata[EXEC_MIME_TYPE]};\n      render(props, toinsert[toinsert.length - 1]);\n      element.append(toinsert);\n      return toinsert\n    }\n\n    /* Handle when an output is cleared or removed */\n    events.on('clear_output.CodeCell', handleClearOutput);\n    events.on('delete.Cell', handleClearOutput);\n\n    /* Handle when a new output is added */\n    events.on('output_added.OutputArea', handleAddOutput);\n\n    /**\n     * Register the mime type and append_mime function with output_area\n     */\n    OutputArea.prototype.register_mime_type(EXEC_MIME_TYPE, append_mime, {\n      /* Is output safe? */\n      safe: true,\n      /* Index of renderer in `output_area.display_order` */\n      index: 0\n    });\n  }\n\n  // register the mime type if in Jupyter Notebook environment and previously unregistered\n  if (root.Jupyter !== undefined) {\n    const events = require('base/js/events');\n    const OutputArea = require('notebook/js/outputarea').OutputArea;\n\n    if (OutputArea.prototype.mime_types().indexOf(EXEC_MIME_TYPE) == -1) {\n      register_renderer(events, OutputArea);\n    }\n  }\n  if (typeof (root._bokeh_timeout) === \"undefined\" || force === true) {\n    root._bokeh_timeout = Date.now() + 5000;\n    root._bokeh_failed_load = false;\n  }\n\n  const NB_LOAD_WARNING = {'data': {'text/html':\n     \"<div style='background-color: #fdd'>\\n\"+\n     \"<p>\\n\"+\n     \"BokehJS does not appear to have successfully loaded. If loading BokehJS from CDN, this \\n\"+\n     \"may be due to a slow or bad network connection. Possible fixes:\\n\"+\n     \"</p>\\n\"+\n     \"<ul>\\n\"+\n     \"<li>re-rerun `output_notebook()` to attempt to load from CDN again, or</li>\\n\"+\n     \"<li>use INLINE resources instead, as so:</li>\\n\"+\n     \"</ul>\\n\"+\n     \"<code>\\n\"+\n     \"from bokeh.resources import INLINE\\n\"+\n     \"output_notebook(resources=INLINE)\\n\"+\n     \"</code>\\n\"+\n     \"</div>\"}};\n\n  function display_loaded(error = null) {\n    const el = document.getElementById(\"d8b3c667-21e4-4696-aa27-19297160ae02\");\n    if (el != null) {\n      const html = (() => {\n        if (typeof root.Bokeh === \"undefined\") {\n          if (error == null) {\n            return \"BokehJS is loading ...\";\n          } else {\n            return \"BokehJS failed to load.\";\n          }\n        } else {\n          const prefix = `BokehJS ${root.Bokeh.version}`;\n          if (error == null) {\n            return `${prefix} successfully loaded.`;\n          } else {\n            return `${prefix} <b>encountered errors</b> while loading and may not function as expected.`;\n          }\n        }\n      })();\n      el.innerHTML = html;\n\n      if (error != null) {\n        const wrapper = document.createElement(\"div\");\n        wrapper.style.overflow = \"auto\";\n        wrapper.style.height = \"5em\";\n        wrapper.style.resize = \"vertical\";\n        const content = document.createElement(\"div\");\n        content.style.fontFamily = \"monospace\";\n        content.style.whiteSpace = \"pre-wrap\";\n        content.style.backgroundColor = \"rgb(255, 221, 221)\";\n        content.textContent = error.stack ?? error.toString();\n        wrapper.append(content);\n        el.append(wrapper);\n      }\n    } else if (Date.now() < root._bokeh_timeout) {\n      setTimeout(() => display_loaded(error), 100);\n    }\n  }\n\n  function run_callbacks() {\n    try {\n      root._bokeh_onload_callbacks.forEach(function(callback) {\n        if (callback != null)\n          callback();\n      });\n    } finally {\n      delete root._bokeh_onload_callbacks\n    }\n    console.debug(\"Bokeh: all callbacks have finished\");\n  }\n\n  function load_libs(css_urls, js_urls, callback) {\n    if (css_urls == null) css_urls = [];\n    if (js_urls == null) js_urls = [];\n\n    root._bokeh_onload_callbacks.push(callback);\n    if (root._bokeh_is_loading > 0) {\n      console.debug(\"Bokeh: BokehJS is being loaded, scheduling callback at\", now());\n      return null;\n    }\n    if (js_urls == null || js_urls.length === 0) {\n      run_callbacks();\n      return null;\n    }\n    console.debug(\"Bokeh: BokehJS not loaded, scheduling load and callback at\", now());\n    root._bokeh_is_loading = css_urls.length + js_urls.length;\n\n    function on_load() {\n      root._bokeh_is_loading--;\n      if (root._bokeh_is_loading === 0) {\n        console.debug(\"Bokeh: all BokehJS libraries/stylesheets loaded\");\n        run_callbacks()\n      }\n    }\n\n    function on_error(url) {\n      console.error(\"failed to load \" + url);\n    }\n\n    for (let i = 0; i < css_urls.length; i++) {\n      const url = css_urls[i];\n      const element = document.createElement(\"link\");\n      element.onload = on_load;\n      element.onerror = on_error.bind(null, url);\n      element.rel = \"stylesheet\";\n      element.type = \"text/css\";\n      element.href = url;\n      console.debug(\"Bokeh: injecting link tag for BokehJS stylesheet: \", url);\n      document.body.appendChild(element);\n    }\n\n    for (let i = 0; i < js_urls.length; i++) {\n      const url = js_urls[i];\n      const element = document.createElement('script');\n      element.onload = on_load;\n      element.onerror = on_error.bind(null, url);\n      element.async = false;\n      element.src = url;\n      console.debug(\"Bokeh: injecting script tag for BokehJS library: \", url);\n      document.head.appendChild(element);\n    }\n  };\n\n  function inject_raw_css(css) {\n    const element = document.createElement(\"style\");\n    element.appendChild(document.createTextNode(css));\n    document.body.appendChild(element);\n  }\n\n  const js_urls = [\"https://cdn.bokeh.org/bokeh/release/bokeh-3.5.1.min.js\", \"https://cdn.bokeh.org/bokeh/release/bokeh-gl-3.5.1.min.js\", \"https://cdn.bokeh.org/bokeh/release/bokeh-widgets-3.5.1.min.js\", \"https://cdn.bokeh.org/bokeh/release/bokeh-tables-3.5.1.min.js\", \"https://cdn.bokeh.org/bokeh/release/bokeh-mathjax-3.5.1.min.js\"];\n  const css_urls = [];\n\n  const inline_js = [    function(Bokeh) {\n      Bokeh.set_log_level(\"info\");\n    },\nfunction(Bokeh) {\n    }\n  ];\n\n  function run_inline_js() {\n    if (root.Bokeh !== undefined || force === true) {\n      try {\n            for (let i = 0; i < inline_js.length; i++) {\n      inline_js[i].call(root, root.Bokeh);\n    }\n\n      } catch (error) {display_loaded(error);throw error;\n      }if (force === true) {\n        display_loaded();\n      }} else if (Date.now() < root._bokeh_timeout) {\n      setTimeout(run_inline_js, 100);\n    } else if (!root._bokeh_failed_load) {\n      console.log(\"Bokeh: BokehJS failed to load within specified timeout.\");\n      root._bokeh_failed_load = true;\n    } else if (force !== true) {\n      const cell = $(document.getElementById(\"d8b3c667-21e4-4696-aa27-19297160ae02\")).parents('.cell').data().cell;\n      cell.output_area.append_execute_result(NB_LOAD_WARNING)\n    }\n  }\n\n  if (root._bokeh_is_loading === 0) {\n    console.debug(\"Bokeh: BokehJS loaded, going straight to plotting\");\n    run_inline_js();\n  } else {\n    load_libs(css_urls, js_urls, function() {\n      console.debug(\"Bokeh: BokehJS plotting callback run at\", now());\n      run_inline_js();\n    });\n  }\n}(window));",
      "application/vnd.bokehjs_load.v0+json": ""
     },
     "metadata": {},
     "output_type": "display_data"
    }
   ],
   "source": [
    "import bokeh.plotting as pl\n",
    "import bokeh.models as bm\n",
    "from bokeh.io import output_notebook, show\n",
    "output_notebook()\n",
    "\n",
    "def draw_attention(inp_line, translation, probs):\n",
    "    \"\"\" An intentionally ambiguous function to visualize attention weights \"\"\"\n",
    "    inp_tokens = inp_voc.tokenize(inp_line)\n",
    "    trans_tokens = out_voc.tokenize(translation)\n",
    "    probs = probs[:len(trans_tokens), :len(inp_tokens)]\n",
    "    \n",
    "    fig = pl.figure(x_range=(0, len(inp_tokens)), y_range=(0, len(trans_tokens)),\n",
    "                    x_axis_type=None, y_axis_type=None, tools=[])\n",
    "    fig.image([probs[::-1]], 0, 0, len(inp_tokens), len(trans_tokens))\n",
    "\n",
    "    fig.add_layout(bm.LinearAxis(axis_label='source tokens'), 'above')\n",
    "    fig.xaxis.ticker = np.arange(len(inp_tokens)) + 0.5\n",
    "    fig.xaxis.major_label_overrides = dict(zip(np.arange(len(inp_tokens)) + 0.5, inp_tokens))\n",
    "    fig.xaxis.major_label_orientation = 45\n",
    "\n",
    "    fig.add_layout(bm.LinearAxis(axis_label='translation tokens'), 'left')\n",
    "    fig.yaxis.ticker = np.arange(len(trans_tokens)) + 0.5\n",
    "    fig.yaxis.major_label_overrides = dict(zip(np.arange(len(trans_tokens)) + 0.5, trans_tokens[::-1]))\n",
    "\n",
    "    show(fig)\n"
   ]
  },
  {
   "cell_type": "code",
   "execution_count": 36,
   "metadata": {},
   "outputs": [],
   "source": [
    "inp = dev_inp[::200]\n",
    "\n",
    "trans, states = model.translate_lines(inp)\n",
    "\n",
    "# select attention probs from model state (you may need to change this for your custom model)\n",
    "# attention_probs below must have shape [batch_size, translation_length, input_length], extracted from states\n",
    "# e.g. if attention probs are at the end of each state, use np.stack([state[-1] for state in states], axis=1)\n",
    "attention_probs = np.array(torch.stack([state[1].cpu() for state in states],axis=1))"
   ]
  },
  {
   "cell_type": "code",
   "execution_count": 38,
   "metadata": {},
   "outputs": [
    {
     "data": {
      "text/html": [
       "\n",
       "  <div id=\"f779a514-248a-4641-820b-9563a7fa139a\" data-root-id=\"p1821\" style=\"display: contents;\"></div>\n"
      ]
     },
     "metadata": {},
     "output_type": "display_data"
    },
    {
     "data": {
      "application/javascript": "(function(root) {\n  function embed_document(root) {\n  const docs_json = {\"3c69f11b-0460-40bf-9c46-2a5dac47464b\":{\"version\":\"3.5.1\",\"title\":\"Bokeh Application\",\"roots\":[{\"type\":\"object\",\"name\":\"Figure\",\"id\":\"p1821\",\"attributes\":{\"x_range\":{\"type\":\"object\",\"name\":\"Range1d\",\"id\":\"p1830\",\"attributes\":{\"end\":11}},\"y_range\":{\"type\":\"object\",\"name\":\"Range1d\",\"id\":\"p1831\",\"attributes\":{\"end\":14}},\"x_scale\":{\"type\":\"object\",\"name\":\"LinearScale\",\"id\":\"p1832\"},\"y_scale\":{\"type\":\"object\",\"name\":\"LinearScale\",\"id\":\"p1833\"},\"title\":{\"type\":\"object\",\"name\":\"Title\",\"id\":\"p1828\"},\"renderers\":[{\"type\":\"object\",\"name\":\"GlyphRenderer\",\"id\":\"p1846\",\"attributes\":{\"data_source\":{\"type\":\"object\",\"name\":\"ColumnDataSource\",\"id\":\"p1834\",\"attributes\":{\"selected\":{\"type\":\"object\",\"name\":\"Selection\",\"id\":\"p1835\",\"attributes\":{\"indices\":[],\"line_indices\":[]}},\"selection_policy\":{\"type\":\"object\",\"name\":\"UnionRenderers\",\"id\":\"p1836\"},\"data\":{\"type\":\"map\",\"entries\":[[\"image\",[{\"type\":\"ndarray\",\"array\":{\"type\":\"bytes\",\"data\":\"zhzWPduQYzzvwlw7kY2uOSWVpDqsfm87PBKiOyYGVjuRTCw8FdzdPIe/Uz9tfXk/btgjOk51OTk2pq05mAGKOdt5uTpBBQg6T0CNOuI/XjttdiI8Osz8O1drdT8EIFU6jKI7OBYk5jlNETc5qMpGOoY0HToxN5w6OMBhOl1tSjxhX8U8nD0KP4ZxCDzYU7w5NDF3OlProjlWeQ88ksFNOy0FhjtHacA8CCv1PRvtlD5lvhI/lFMHO/m0yTgXack3VNuFO6WWnju15HI88wC9PLk8hz3qFtM9zq1VPhefjT5a5so3EqKMN3V9PDeiSaA5+CbBO5f+xTrl9MQ6A9MHPD50ZD2paiY/VugQPVlvhjfXt242Z5X6NyC3fDjlIFM6rXorOhahHztsAys+PAqAPeAoOz/pjsM+uN3SODnXnjf+vJc3JsmmOQUIEjueOM46/g5LPcy2NT4ITxQ+krx3Pq6xFz9clXs5BfcLN/K0nzabjT43y7sVOQcztDn36Tc7omZnPU8zQD7UhyM+eTYvP9LtgjpYY0s5mZqeORTPUjiy0UY7nEjDPLKZhTxaTkg+W+p2PVcGdTwRkBc+8wbHOEo5rTifvR84Qj+bOxFsXT3bLKI9KIYWPsYY8T5h4Es9w/A8PclaGTq4GHM4toP7OUFvhjo1Pfk7YBJFPlnLqz4ajTU+K1djPnL/njyYVjI9EEyhNziMxTeIYWc4wjEXO2px2j7aYZE+anQJPgnUkj2M15w9FKAKOziUGztkAGM2RBqaONckIjkVBYE4yNmpPXapLT7FBw07w7ssPtXSEj/Fmps6jDXVOg==\"},\"shape\":[14,11],\"dtype\":\"float32\",\"order\":\"little\"}]]]}}},\"view\":{\"type\":\"object\",\"name\":\"CDSView\",\"id\":\"p1847\",\"attributes\":{\"filter\":{\"type\":\"object\",\"name\":\"AllIndices\",\"id\":\"p1848\"}}},\"glyph\":{\"type\":\"object\",\"name\":\"Image\",\"id\":\"p1837\",\"attributes\":{\"x\":{\"type\":\"value\",\"value\":0},\"y\":{\"type\":\"value\",\"value\":0},\"dw\":{\"type\":\"value\",\"value\":11},\"dh\":{\"type\":\"value\",\"value\":14},\"image\":{\"type\":\"field\",\"field\":\"image\"},\"color_mapper\":{\"type\":\"object\",\"name\":\"LinearColorMapper\",\"id\":\"p1838\",\"attributes\":{\"palette\":[\"#000000\",\"#252525\",\"#525252\",\"#737373\",\"#969696\",\"#bdbdbd\",\"#d9d9d9\",\"#f0f0f0\",\"#ffffff\"]}}}},\"nonselection_glyph\":{\"type\":\"object\",\"name\":\"Image\",\"id\":\"p1840\",\"attributes\":{\"x\":{\"type\":\"value\",\"value\":0},\"y\":{\"type\":\"value\",\"value\":0},\"dw\":{\"type\":\"value\",\"value\":11},\"dh\":{\"type\":\"value\",\"value\":14},\"global_alpha\":{\"type\":\"value\",\"value\":0.1},\"image\":{\"type\":\"field\",\"field\":\"image\"},\"color_mapper\":{\"type\":\"object\",\"name\":\"LinearColorMapper\",\"id\":\"p1841\",\"attributes\":{\"palette\":[\"#000000\",\"#252525\",\"#525252\",\"#737373\",\"#969696\",\"#bdbdbd\",\"#d9d9d9\",\"#f0f0f0\",\"#ffffff\"]}}}},\"muted_glyph\":{\"type\":\"object\",\"name\":\"Image\",\"id\":\"p1843\",\"attributes\":{\"x\":{\"type\":\"value\",\"value\":0},\"y\":{\"type\":\"value\",\"value\":0},\"dw\":{\"type\":\"value\",\"value\":11},\"dh\":{\"type\":\"value\",\"value\":14},\"global_alpha\":{\"type\":\"value\",\"value\":0.2},\"image\":{\"type\":\"field\",\"field\":\"image\"},\"color_mapper\":{\"type\":\"object\",\"name\":\"LinearColorMapper\",\"id\":\"p1844\",\"attributes\":{\"palette\":[\"#000000\",\"#252525\",\"#525252\",\"#737373\",\"#969696\",\"#bdbdbd\",\"#d9d9d9\",\"#f0f0f0\",\"#ffffff\"]}}}}}}],\"toolbar\":{\"type\":\"object\",\"name\":\"Toolbar\",\"id\":\"p1829\"},\"left\":[{\"type\":\"object\",\"name\":\"LinearAxis\",\"id\":\"p1854\",\"attributes\":{\"ticker\":{\"type\":\"object\",\"name\":\"FixedTicker\",\"id\":\"p1858\",\"attributes\":{\"ticks\":{\"type\":\"ndarray\",\"array\":{\"type\":\"bytes\",\"data\":\"AAAAAAAA4D8AAAAAAAD4PwAAAAAAAARAAAAAAAAADEAAAAAAAAASQAAAAAAAABZAAAAAAAAAGkAAAAAAAAAeQAAAAAAAACFAAAAAAAAAI0AAAAAAAAAlQAAAAAAAACdAAAAAAAAAKUAAAAAAAAArQA==\"},\"shape\":[14],\"dtype\":\"float64\",\"order\":\"little\"},\"minor_ticks\":[]}},\"formatter\":{\"type\":\"object\",\"name\":\"BasicTickFormatter\",\"id\":\"p1856\"},\"axis_label\":\"translation tokens\",\"major_label_overrides\":{\"type\":\"map\",\"entries\":[[0.5,\"_EOS_\"],[1.5,\".\"],[2.5,\"room\"],[3.5,\"living\"],[4.5,\"shared\"],[5.5,\"a\"],[6.5,\"and\"],[7.5,\"facilities\"],[8.5,\"kitchen\"],[9.5,\"shared\"],[10.5,\"have\"],[11.5,\"rooms\"],[12.5,\"all\"],[13.5,\"_BOS_\"]]},\"major_label_policy\":{\"type\":\"object\",\"name\":\"AllLabels\",\"id\":\"p1857\"}}}],\"above\":[{\"type\":\"object\",\"name\":\"LinearAxis\",\"id\":\"p1849\",\"attributes\":{\"ticker\":{\"type\":\"object\",\"name\":\"FixedTicker\",\"id\":\"p1853\",\"attributes\":{\"ticks\":{\"type\":\"ndarray\",\"array\":{\"type\":\"bytes\",\"data\":\"AAAAAAAA4D8AAAAAAAD4PwAAAAAAAARAAAAAAAAADEAAAAAAAAASQAAAAAAAABZAAAAAAAAAGkAAAAAAAAAeQAAAAAAAACFAAAAAAAAAI0AAAAAAAAAlQA==\"},\"shape\":[11],\"dtype\":\"float64\",\"order\":\"little\"},\"minor_ticks\":[]}},\"formatter\":{\"type\":\"object\",\"name\":\"BasicTickFormatter\",\"id\":\"p1851\"},\"axis_label\":\"source tokens\",\"major_label_orientation\":45,\"major_label_overrides\":{\"type\":\"map\",\"entries\":[[0.5,\"_BOS_\"],[1.5,\"\\u0432\"],[2.5,\"\\u0440\\u0430\\u0441\\u043f\\u043e\\u0440\\u044f\\u0436\\u0435\\u043d\\u0438\\u0438\"],[3.5,\"\\u0433\\u043e\\u0441\\u0442\\u0435\\u0439\"],[4.5,\"\\u043e\\u0431\\u0449\\u0430\\u044f\"],[5.5,\"\\u043a\\u0443\\u0445\\u043d\\u044f\"],[6.5,\"\\u0438\"],[7.5,\"\\u043e\\u0431\\u0449\\u0430\\u044f\"],[8.5,\"\\u0433\\u043e\\u0441\\u0442\\u0438\\u043d\\u0430\\u044f\"],[9.5,\".\"],[10.5,\"_EOS_\"]]},\"major_label_policy\":{\"type\":\"object\",\"name\":\"AllLabels\",\"id\":\"p1852\"}}}]}}]}};\n  const render_items = [{\"docid\":\"3c69f11b-0460-40bf-9c46-2a5dac47464b\",\"roots\":{\"p1821\":\"f779a514-248a-4641-820b-9563a7fa139a\"},\"root_ids\":[\"p1821\"]}];\n  void root.Bokeh.embed.embed_items_notebook(docs_json, render_items);\n  }\n  if (root.Bokeh !== undefined) {\n    embed_document(root);\n  } else {\n    let attempts = 0;\n    const timer = setInterval(function(root) {\n      if (root.Bokeh !== undefined) {\n        clearInterval(timer);\n        embed_document(root);\n      } else {\n        attempts++;\n        if (attempts > 100) {\n          clearInterval(timer);\n          console.log(\"Bokeh: ERROR: Unable to run BokehJS code because BokehJS library is missing\");\n        }\n      }\n    }, 10, root)\n  }\n})(window);",
      "application/vnd.bokehjs_exec.v0+json": ""
     },
     "metadata": {
      "application/vnd.bokehjs_exec.v0+json": {
       "id": "p1821"
      }
     },
     "output_type": "display_data"
    },
    {
     "data": {
      "text/html": [
       "\n",
       "  <div id=\"f1955af0-9a86-4dac-aa5a-d70696ab90ba\" data-root-id=\"p1862\" style=\"display: contents;\"></div>\n"
      ]
     },
     "metadata": {},
     "output_type": "display_data"
    },
    {
     "data": {
      "application/javascript": "(function(root) {\n  function embed_document(root) {\n  const docs_json = {\"8bfe11ca-b819-447a-b2f5-94c3a2bdf812\":{\"version\":\"3.5.1\",\"title\":\"Bokeh Application\",\"roots\":[{\"type\":\"object\",\"name\":\"Figure\",\"id\":\"p1862\",\"attributes\":{\"x_range\":{\"type\":\"object\",\"name\":\"Range1d\",\"id\":\"p1871\",\"attributes\":{\"end\":8}},\"y_range\":{\"type\":\"object\",\"name\":\"Range1d\",\"id\":\"p1872\",\"attributes\":{\"end\":9}},\"x_scale\":{\"type\":\"object\",\"name\":\"LinearScale\",\"id\":\"p1873\"},\"y_scale\":{\"type\":\"object\",\"name\":\"LinearScale\",\"id\":\"p1874\"},\"title\":{\"type\":\"object\",\"name\":\"Title\",\"id\":\"p1869\"},\"renderers\":[{\"type\":\"object\",\"name\":\"GlyphRenderer\",\"id\":\"p1887\",\"attributes\":{\"data_source\":{\"type\":\"object\",\"name\":\"ColumnDataSource\",\"id\":\"p1875\",\"attributes\":{\"selected\":{\"type\":\"object\",\"name\":\"Selection\",\"id\":\"p1876\",\"attributes\":{\"indices\":[],\"line_indices\":[]}},\"selection_policy\":{\"type\":\"object\",\"name\":\"UnionRenderers\",\"id\":\"p1877\"},\"data\":{\"type\":\"map\",\"entries\":[[\"image\",[{\"type\":\"ndarray\",\"array\":{\"type\":\"bytes\",\"data\":\"ZeNoP5zYhjlPees4r7kMOJOWIDlwwJk58g9zOfettj0tAEA/RxCXO4Y5Bjva+Dw74EcuO4CzZTsXq6g7uqRqPsEIXz/fnjI7WS8oOk7fgzrn9a06+VIKPYRA+Dxsp3E9ntNoP1q5XzlC1QQ6R/2eOnLFvzlYJ4w7EQxPPMsJkj13F4o9cLWjOhn6FztPT548Juj5PLItzT58Z3A9YujWPr+Kgj4jOzI4iY5zOxPBWj08bSI6gF0dPXObPD0OUBo/5S48OXRtDTuIBLk8aA4TPiQJSDzFrxY/3fPZO/tcZT6a+XE3EqItOsT6bz1WBFM+GsWdPAs3NT99ZTs7TSWZOzihiTTmvEQ/rim0PU3OvD0rfMQ7t305PRngMTjuO/Y2\"},\"shape\":[9,8],\"dtype\":\"float32\",\"order\":\"little\"}]]]}}},\"view\":{\"type\":\"object\",\"name\":\"CDSView\",\"id\":\"p1888\",\"attributes\":{\"filter\":{\"type\":\"object\",\"name\":\"AllIndices\",\"id\":\"p1889\"}}},\"glyph\":{\"type\":\"object\",\"name\":\"Image\",\"id\":\"p1878\",\"attributes\":{\"x\":{\"type\":\"value\",\"value\":0},\"y\":{\"type\":\"value\",\"value\":0},\"dw\":{\"type\":\"value\",\"value\":8},\"dh\":{\"type\":\"value\",\"value\":9},\"image\":{\"type\":\"field\",\"field\":\"image\"},\"color_mapper\":{\"type\":\"object\",\"name\":\"LinearColorMapper\",\"id\":\"p1879\",\"attributes\":{\"palette\":[\"#000000\",\"#252525\",\"#525252\",\"#737373\",\"#969696\",\"#bdbdbd\",\"#d9d9d9\",\"#f0f0f0\",\"#ffffff\"]}}}},\"nonselection_glyph\":{\"type\":\"object\",\"name\":\"Image\",\"id\":\"p1881\",\"attributes\":{\"x\":{\"type\":\"value\",\"value\":0},\"y\":{\"type\":\"value\",\"value\":0},\"dw\":{\"type\":\"value\",\"value\":8},\"dh\":{\"type\":\"value\",\"value\":9},\"global_alpha\":{\"type\":\"value\",\"value\":0.1},\"image\":{\"type\":\"field\",\"field\":\"image\"},\"color_mapper\":{\"type\":\"object\",\"name\":\"LinearColorMapper\",\"id\":\"p1882\",\"attributes\":{\"palette\":[\"#000000\",\"#252525\",\"#525252\",\"#737373\",\"#969696\",\"#bdbdbd\",\"#d9d9d9\",\"#f0f0f0\",\"#ffffff\"]}}}},\"muted_glyph\":{\"type\":\"object\",\"name\":\"Image\",\"id\":\"p1884\",\"attributes\":{\"x\":{\"type\":\"value\",\"value\":0},\"y\":{\"type\":\"value\",\"value\":0},\"dw\":{\"type\":\"value\",\"value\":8},\"dh\":{\"type\":\"value\",\"value\":9},\"global_alpha\":{\"type\":\"value\",\"value\":0.2},\"image\":{\"type\":\"field\",\"field\":\"image\"},\"color_mapper\":{\"type\":\"object\",\"name\":\"LinearColorMapper\",\"id\":\"p1885\",\"attributes\":{\"palette\":[\"#000000\",\"#252525\",\"#525252\",\"#737373\",\"#969696\",\"#bdbdbd\",\"#d9d9d9\",\"#f0f0f0\",\"#ffffff\"]}}}}}}],\"toolbar\":{\"type\":\"object\",\"name\":\"Toolbar\",\"id\":\"p1870\"},\"left\":[{\"type\":\"object\",\"name\":\"LinearAxis\",\"id\":\"p1895\",\"attributes\":{\"ticker\":{\"type\":\"object\",\"name\":\"FixedTicker\",\"id\":\"p1899\",\"attributes\":{\"ticks\":{\"type\":\"ndarray\",\"array\":{\"type\":\"bytes\",\"data\":\"AAAAAAAA4D8AAAAAAAD4PwAAAAAAAARAAAAAAAAADEAAAAAAAAASQAAAAAAAABZAAAAAAAAAGkAAAAAAAAAeQAAAAAAAACFA\"},\"shape\":[9],\"dtype\":\"float64\",\"order\":\"little\"},\"minor_ticks\":[]}},\"formatter\":{\"type\":\"object\",\"name\":\"BasicTickFormatter\",\"id\":\"p1897\"},\"axis_label\":\"translation tokens\",\"major_label_overrides\":{\"type\":\"map\",\"entries\":[[0.5,\"_EOS_\"],[1.5,\".\"],[2.5,\"included\"],[3.5,\"are\"],[4.5,\"parking\"],[5.5,\"free\"],[6.5,\"and\"],[7.5,\"wifi\"],[8.5,\"_BOS_\"]]},\"major_label_policy\":{\"type\":\"object\",\"name\":\"AllLabels\",\"id\":\"p1898\"}}}],\"above\":[{\"type\":\"object\",\"name\":\"LinearAxis\",\"id\":\"p1890\",\"attributes\":{\"ticker\":{\"type\":\"object\",\"name\":\"FixedTicker\",\"id\":\"p1894\",\"attributes\":{\"ticks\":{\"type\":\"ndarray\",\"array\":{\"type\":\"bytes\",\"data\":\"AAAAAAAA4D8AAAAAAAD4PwAAAAAAAARAAAAAAAAADEAAAAAAAAASQAAAAAAAABZAAAAAAAAAGkAAAAAAAAAeQA==\"},\"shape\":[8],\"dtype\":\"float64\",\"order\":\"little\"},\"minor_ticks\":[]}},\"formatter\":{\"type\":\"object\",\"name\":\"BasicTickFormatter\",\"id\":\"p1892\"},\"axis_label\":\"source tokens\",\"major_label_orientation\":45,\"major_label_overrides\":{\"type\":\"map\",\"entries\":[[0.5,\"_BOS_\"],[1.5,\"wifi\"],[2.5,\"\\u0438\"],[3.5,\"\\u043f\\u0430\\u0440\\u043a\\u043e\\u0432\\u043a\\u0430\"],[4.5,\"\\u043f\\u0440\\u0435\\u0434\\u043e\\u0441\\u0442\\u0430\\u0432\\u043b\\u044f\\u044e\\u0442\\u0441\\u044f\"],[5.5,\"\\u0431\\u0435\\u0441\\u043f\\u043b\\u0430\\u0442\\u043d\\u043e\"],[6.5,\".\"],[7.5,\"_EOS_\"]]},\"major_label_policy\":{\"type\":\"object\",\"name\":\"AllLabels\",\"id\":\"p1893\"}}}]}}]}};\n  const render_items = [{\"docid\":\"8bfe11ca-b819-447a-b2f5-94c3a2bdf812\",\"roots\":{\"p1862\":\"f1955af0-9a86-4dac-aa5a-d70696ab90ba\"},\"root_ids\":[\"p1862\"]}];\n  void root.Bokeh.embed.embed_items_notebook(docs_json, render_items);\n  }\n  if (root.Bokeh !== undefined) {\n    embed_document(root);\n  } else {\n    let attempts = 0;\n    const timer = setInterval(function(root) {\n      if (root.Bokeh !== undefined) {\n        clearInterval(timer);\n        embed_document(root);\n      } else {\n        attempts++;\n        if (attempts > 100) {\n          clearInterval(timer);\n          console.log(\"Bokeh: ERROR: Unable to run BokehJS code because BokehJS library is missing\");\n        }\n      }\n    }, 10, root)\n  }\n})(window);",
      "application/vnd.bokehjs_exec.v0+json": ""
     },
     "metadata": {
      "application/vnd.bokehjs_exec.v0+json": {
       "id": "p1862"
      }
     },
     "output_type": "display_data"
    },
    {
     "data": {
      "text/html": [
       "\n",
       "  <div id=\"afd622db-49e9-49ce-be69-c46fb86e9d05\" data-root-id=\"p1903\" style=\"display: contents;\"></div>\n"
      ]
     },
     "metadata": {},
     "output_type": "display_data"
    },
    {
     "data": {
      "application/javascript": "(function(root) {\n  function embed_document(root) {\n  const docs_json = {\"fbc439f9-b8eb-4b7d-a495-5372f35c4358\":{\"version\":\"3.5.1\",\"title\":\"Bokeh Application\",\"roots\":[{\"type\":\"object\",\"name\":\"Figure\",\"id\":\"p1903\",\"attributes\":{\"x_range\":{\"type\":\"object\",\"name\":\"Range1d\",\"id\":\"p1912\",\"attributes\":{\"end\":14}},\"y_range\":{\"type\":\"object\",\"name\":\"Range1d\",\"id\":\"p1913\",\"attributes\":{\"end\":15}},\"x_scale\":{\"type\":\"object\",\"name\":\"LinearScale\",\"id\":\"p1914\"},\"y_scale\":{\"type\":\"object\",\"name\":\"LinearScale\",\"id\":\"p1915\"},\"title\":{\"type\":\"object\",\"name\":\"Title\",\"id\":\"p1910\"},\"renderers\":[{\"type\":\"object\",\"name\":\"GlyphRenderer\",\"id\":\"p1928\",\"attributes\":{\"data_source\":{\"type\":\"object\",\"name\":\"ColumnDataSource\",\"id\":\"p1916\",\"attributes\":{\"selected\":{\"type\":\"object\",\"name\":\"Selection\",\"id\":\"p1917\",\"attributes\":{\"indices\":[],\"line_indices\":[]}},\"selection_policy\":{\"type\":\"object\",\"name\":\"UnionRenderers\",\"id\":\"p1918\"},\"data\":{\"type\":\"map\",\"entries\":[[\"image\",[{\"type\":\"ndarray\",\"array\":{\"type\":\"bytes\",\"data\":\"nQl5P0C4BTikLlU3gI9WN+VgqDcqT7g1m0u8NoZvpzZ2XaA3dRDEN0plwzjswew42n4BPExImzwWB7w9Il5lOjJLXzgxjh85kmVPObAfLTlfOBw4FZ/NNzVNkTnBnQc5zV0uPezhZjz6c6s+dcYDPz2dcz9ZVpI6ODjDOEWNszdiZls2XJIiNyuE7jYkkWg2KE9TNlZVITnKugo7eIQaOlMyPzzDgQU90J9WP5YQ8DkLWro2URgNODYC1DemWJs32LvdN6dclzi9oAc4+hofOAk1+zrBAMI6R4naPBb7BT41f5c+TsejOkH0aDiu7LI4KYcBOc9wXDh7JuI45TZvN35XjjjmglI6fWEaPRm5GDuxvbQ9IsISP+ELNzqoB3M5rPeIOMPFqzmrfLc5laW4Ob1A6Dos21A7/IGTPO3r+TzmcxA/AhoAPjGwAz6pkQE+XVi/PuGkmTlSE1w6a/3rO22ZBjxBzSY6yhkhO/csCTx8ygY9efMTPC6fxz0NCjg+EyTMPVbBNz51Cg4/zr8cPHu3sziK1EA7ObEMPZGaWDvQXk08umgTPIaWizxZi1Y8bAxKPu7fuz0ULx49gBh/PCp0XT+F8Vk6KmlAN3We6zo1PRA7BXEqOa2S1TqH45k69vskPL+JeTyLvrg9us1xO8FIrzuw4yk7SFZtPyAJnzhAszU5KVHgOEDRBTvpXBI5eOyPOgfo+DqNdoA7jLs1PC1k0Dtpq7w8t5GZPAw5ijveSaQ+iRy1Obmb/zjZsC47+QEbPWO03j3SQWc909GSPAvUKj1fGJE9QB6HPltunzzQpzM9zsJ5PHwrZz/0v1s5WfBTOphexDq/Kt86Kf0DO0WJCjs7heo6/pxlPboCkzvtJrQ7B0aTPEhquzrZaLg6F/abOe+pOzazqR05mJWCO/7pRz4bexo8HFs5Ptcu0T4gd349ckk3PYQx8Dzbxlk9H4erO4LO3DsE6+A5/L2MOgejXzubMbY79pjbPbmFPD2I528+IEMOP5z9rTs8iJk8ANI0PJtRLDzw13U5csHmOffVKzUwTmk32+XGOv20ez0xfb8+D1VPPVNzAj5X1gg9pEsBOztSMTpxMaQ8pSCoPujL8DnEmZE4\"},\"shape\":[15,14],\"dtype\":\"float32\",\"order\":\"little\"}]]]}}},\"view\":{\"type\":\"object\",\"name\":\"CDSView\",\"id\":\"p1929\",\"attributes\":{\"filter\":{\"type\":\"object\",\"name\":\"AllIndices\",\"id\":\"p1930\"}}},\"glyph\":{\"type\":\"object\",\"name\":\"Image\",\"id\":\"p1919\",\"attributes\":{\"x\":{\"type\":\"value\",\"value\":0},\"y\":{\"type\":\"value\",\"value\":0},\"dw\":{\"type\":\"value\",\"value\":14},\"dh\":{\"type\":\"value\",\"value\":15},\"image\":{\"type\":\"field\",\"field\":\"image\"},\"color_mapper\":{\"type\":\"object\",\"name\":\"LinearColorMapper\",\"id\":\"p1920\",\"attributes\":{\"palette\":[\"#000000\",\"#252525\",\"#525252\",\"#737373\",\"#969696\",\"#bdbdbd\",\"#d9d9d9\",\"#f0f0f0\",\"#ffffff\"]}}}},\"nonselection_glyph\":{\"type\":\"object\",\"name\":\"Image\",\"id\":\"p1922\",\"attributes\":{\"x\":{\"type\":\"value\",\"value\":0},\"y\":{\"type\":\"value\",\"value\":0},\"dw\":{\"type\":\"value\",\"value\":14},\"dh\":{\"type\":\"value\",\"value\":15},\"global_alpha\":{\"type\":\"value\",\"value\":0.1},\"image\":{\"type\":\"field\",\"field\":\"image\"},\"color_mapper\":{\"type\":\"object\",\"name\":\"LinearColorMapper\",\"id\":\"p1923\",\"attributes\":{\"palette\":[\"#000000\",\"#252525\",\"#525252\",\"#737373\",\"#969696\",\"#bdbdbd\",\"#d9d9d9\",\"#f0f0f0\",\"#ffffff\"]}}}},\"muted_glyph\":{\"type\":\"object\",\"name\":\"Image\",\"id\":\"p1925\",\"attributes\":{\"x\":{\"type\":\"value\",\"value\":0},\"y\":{\"type\":\"value\",\"value\":0},\"dw\":{\"type\":\"value\",\"value\":14},\"dh\":{\"type\":\"value\",\"value\":15},\"global_alpha\":{\"type\":\"value\",\"value\":0.2},\"image\":{\"type\":\"field\",\"field\":\"image\"},\"color_mapper\":{\"type\":\"object\",\"name\":\"LinearColorMapper\",\"id\":\"p1926\",\"attributes\":{\"palette\":[\"#000000\",\"#252525\",\"#525252\",\"#737373\",\"#969696\",\"#bdbdbd\",\"#d9d9d9\",\"#f0f0f0\",\"#ffffff\"]}}}}}}],\"toolbar\":{\"type\":\"object\",\"name\":\"Toolbar\",\"id\":\"p1911\"},\"left\":[{\"type\":\"object\",\"name\":\"LinearAxis\",\"id\":\"p1936\",\"attributes\":{\"ticker\":{\"type\":\"object\",\"name\":\"FixedTicker\",\"id\":\"p1940\",\"attributes\":{\"ticks\":{\"type\":\"ndarray\",\"array\":{\"type\":\"bytes\",\"data\":\"AAAAAAAA4D8AAAAAAAD4PwAAAAAAAARAAAAAAAAADEAAAAAAAAASQAAAAAAAABZAAAAAAAAAGkAAAAAAAAAeQAAAAAAAACFAAAAAAAAAI0AAAAAAAAAlQAAAAAAAACdAAAAAAAAAKUAAAAAAAAArQAAAAAAAAC1A\"},\"shape\":[15],\"dtype\":\"float64\",\"order\":\"little\"},\"minor_ticks\":[]}},\"formatter\":{\"type\":\"object\",\"name\":\"BasicTickFormatter\",\"id\":\"p1938\"},\"axis_label\":\"translation tokens\",\"major_label_overrides\":{\"type\":\"map\",\"entries\":[[0.5,\"_EOS_\"],[1.5,\".\"],[2.5,\"bathroom\"],[3.5,\"private\"],[4.5,\"a\"],[5.5,\"and\"],[6.5,\"tv\"],[7.5,\"screen\"],[8.5,\"-\"],[9.5,\"flat\"],[10.5,\"a\"],[11.5,\"with\"],[12.5,\"come\"],[13.5,\"rooms\"],[14.5,\"_BOS_\"]]},\"major_label_policy\":{\"type\":\"object\",\"name\":\"AllLabels\",\"id\":\"p1939\"}}}],\"above\":[{\"type\":\"object\",\"name\":\"LinearAxis\",\"id\":\"p1931\",\"attributes\":{\"ticker\":{\"type\":\"object\",\"name\":\"FixedTicker\",\"id\":\"p1935\",\"attributes\":{\"ticks\":{\"type\":\"ndarray\",\"array\":{\"type\":\"bytes\",\"data\":\"AAAAAAAA4D8AAAAAAAD4PwAAAAAAAARAAAAAAAAADEAAAAAAAAASQAAAAAAAABZAAAAAAAAAGkAAAAAAAAAeQAAAAAAAACFAAAAAAAAAI0AAAAAAAAAlQAAAAAAAACdAAAAAAAAAKUAAAAAAAAArQA==\"},\"shape\":[14],\"dtype\":\"float64\",\"order\":\"little\"},\"minor_ticks\":[]}},\"formatter\":{\"type\":\"object\",\"name\":\"BasicTickFormatter\",\"id\":\"p1933\"},\"axis_label\":\"source tokens\",\"major_label_orientation\":45,\"major_label_overrides\":{\"type\":\"map\",\"entries\":[[0.5,\"_BOS_\"],[1.5,\"\\u0432\"],[2.5,\"\\u043d\\u043e\\u043c\\u0435\\u0440\\u0430\\u0445\"],[3.5,\"\\u0438\\u043c\\u0435\\u0435\\u0442\\u0441\\u044f\"],[4.5,\"\\u0442\\u0435\\u043b\\u0435\\u0432\\u0438\\u0437\\u043e\\u0440\"],[5.5,\"\\u0441\"],[6.5,\"\\u043f\\u043b\\u043e\\u0441\\u043a\\u0438\\u043c\"],[7.5,\"\\u044d\\u043a\\u0440\\u0430\\u043d\\u043e\\u043c\"],[8.5,\"\\u0438\"],[9.5,\"\\u0441\\u043e\\u0431\\u0441\\u0442\\u0432\\u0435\\u043d\\u043d\\u0430\\u044f\"],[10.5,\"\\u0432\\u0430\\u043d\\u043d\\u0430\\u044f\"],[11.5,\"\\u043a\\u043e\\u043c\\u043d\\u0430\\u0442\\u0430\"],[12.5,\".\"],[13.5,\"_EOS_\"]]},\"major_label_policy\":{\"type\":\"object\",\"name\":\"AllLabels\",\"id\":\"p1934\"}}}]}}]}};\n  const render_items = [{\"docid\":\"fbc439f9-b8eb-4b7d-a495-5372f35c4358\",\"roots\":{\"p1903\":\"afd622db-49e9-49ce-be69-c46fb86e9d05\"},\"root_ids\":[\"p1903\"]}];\n  void root.Bokeh.embed.embed_items_notebook(docs_json, render_items);\n  }\n  if (root.Bokeh !== undefined) {\n    embed_document(root);\n  } else {\n    let attempts = 0;\n    const timer = setInterval(function(root) {\n      if (root.Bokeh !== undefined) {\n        clearInterval(timer);\n        embed_document(root);\n      } else {\n        attempts++;\n        if (attempts > 100) {\n          clearInterval(timer);\n          console.log(\"Bokeh: ERROR: Unable to run BokehJS code because BokehJS library is missing\");\n        }\n      }\n    }, 10, root)\n  }\n})(window);",
      "application/vnd.bokehjs_exec.v0+json": ""
     },
     "metadata": {
      "application/vnd.bokehjs_exec.v0+json": {
       "id": "p1903"
      }
     },
     "output_type": "display_data"
    },
    {
     "data": {
      "text/html": [
       "\n",
       "  <div id=\"d98a3fcf-dcb9-4840-97b4-dd73796fdedb\" data-root-id=\"p1944\" style=\"display: contents;\"></div>\n"
      ]
     },
     "metadata": {},
     "output_type": "display_data"
    },
    {
     "data": {
      "application/javascript": "(function(root) {\n  function embed_document(root) {\n  const docs_json = {\"6c28bd5c-bca3-47ae-a787-d88face14150\":{\"version\":\"3.5.1\",\"title\":\"Bokeh Application\",\"roots\":[{\"type\":\"object\",\"name\":\"Figure\",\"id\":\"p1944\",\"attributes\":{\"x_range\":{\"type\":\"object\",\"name\":\"Range1d\",\"id\":\"p1953\",\"attributes\":{\"end\":13}},\"y_range\":{\"type\":\"object\",\"name\":\"Range1d\",\"id\":\"p1954\",\"attributes\":{\"end\":11}},\"x_scale\":{\"type\":\"object\",\"name\":\"LinearScale\",\"id\":\"p1955\"},\"y_scale\":{\"type\":\"object\",\"name\":\"LinearScale\",\"id\":\"p1956\"},\"title\":{\"type\":\"object\",\"name\":\"Title\",\"id\":\"p1951\"},\"renderers\":[{\"type\":\"object\",\"name\":\"GlyphRenderer\",\"id\":\"p1969\",\"attributes\":{\"data_source\":{\"type\":\"object\",\"name\":\"ColumnDataSource\",\"id\":\"p1957\",\"attributes\":{\"selected\":{\"type\":\"object\",\"name\":\"Selection\",\"id\":\"p1958\",\"attributes\":{\"indices\":[],\"line_indices\":[]}},\"selection_policy\":{\"type\":\"object\",\"name\":\"UnionRenderers\",\"id\":\"p1959\"},\"data\":{\"type\":\"map\",\"entries\":[[\"image\",[{\"type\":\"ndarray\",\"array\":{\"type\":\"bytes\",\"data\":\"94NrPxnxFjd9X/s561y1Ox0ruzpyYgo6swhXOTCo+zo9CQw5DgXrOkUWgz3SQUM7GhWDOg12Wj+BGFs6Pl4CO0+XVTyCpcQ7+qLXOlFRFTu60kw7vnwgPBuqHTygDK88jk96OwK/lT3hrn0/ThAcOSkiozcORRI4D3ZeOC6v3ziAq7g32yaGOW0JbznWGhI5T7CMOmS1gzmiINw75EF9P27roTqPYoo5hoCYOEjH9DknmWw5HgUyOqcfTTgpbms4+sLnOasZRDoB2aA5pBrKOz/HfD/mMQ48/bv0ONv6gThUJic5QJnwNyCmmDcEGZc4iUkCN19nmzfxMwU4eA/HOqdc9TrCRdA92NDLOoWS8Tkw+5M6OSysOneMBTwPRfY5xMMoPO09EjrvpCA6LMSpPX19gD4SNwo/Eb9lPGD0XjnT9rQ95YcHPOAC2TwGZxs8N/GDOiR09jvKn7Y6JN5dOhNcNT3jMBQ/boBgPnUiIDlqels6/5sQPLhFSDqEuw49XZ/4PHSOGDsp4WI9bIwJPnA/rDxccA4/W+vsPcoGID34vJc2dlMUONs1uTzDxQ098PUbPSLwXT4lBMY7huFKPdn5fjxPSRg+Z7nhPsnKjzyJIh48UPErOdmkqDli1Gw9rHlVPGePkD0BXts+66LJPGurqz40NVk8rRAcPUAeazzESQ070UPzOqWIdjO/XKc1gUU9OobiCDr0+X46Ig4NOnGgbjgbjms71GokOPnfgDuEV30/J+IDNlPeATY=\"},\"shape\":[11,13],\"dtype\":\"float32\",\"order\":\"little\"}]]]}}},\"view\":{\"type\":\"object\",\"name\":\"CDSView\",\"id\":\"p1970\",\"attributes\":{\"filter\":{\"type\":\"object\",\"name\":\"AllIndices\",\"id\":\"p1971\"}}},\"glyph\":{\"type\":\"object\",\"name\":\"Image\",\"id\":\"p1960\",\"attributes\":{\"x\":{\"type\":\"value\",\"value\":0},\"y\":{\"type\":\"value\",\"value\":0},\"dw\":{\"type\":\"value\",\"value\":13},\"dh\":{\"type\":\"value\",\"value\":11},\"image\":{\"type\":\"field\",\"field\":\"image\"},\"color_mapper\":{\"type\":\"object\",\"name\":\"LinearColorMapper\",\"id\":\"p1961\",\"attributes\":{\"palette\":[\"#000000\",\"#252525\",\"#525252\",\"#737373\",\"#969696\",\"#bdbdbd\",\"#d9d9d9\",\"#f0f0f0\",\"#ffffff\"]}}}},\"nonselection_glyph\":{\"type\":\"object\",\"name\":\"Image\",\"id\":\"p1963\",\"attributes\":{\"x\":{\"type\":\"value\",\"value\":0},\"y\":{\"type\":\"value\",\"value\":0},\"dw\":{\"type\":\"value\",\"value\":13},\"dh\":{\"type\":\"value\",\"value\":11},\"global_alpha\":{\"type\":\"value\",\"value\":0.1},\"image\":{\"type\":\"field\",\"field\":\"image\"},\"color_mapper\":{\"type\":\"object\",\"name\":\"LinearColorMapper\",\"id\":\"p1964\",\"attributes\":{\"palette\":[\"#000000\",\"#252525\",\"#525252\",\"#737373\",\"#969696\",\"#bdbdbd\",\"#d9d9d9\",\"#f0f0f0\",\"#ffffff\"]}}}},\"muted_glyph\":{\"type\":\"object\",\"name\":\"Image\",\"id\":\"p1966\",\"attributes\":{\"x\":{\"type\":\"value\",\"value\":0},\"y\":{\"type\":\"value\",\"value\":0},\"dw\":{\"type\":\"value\",\"value\":13},\"dh\":{\"type\":\"value\",\"value\":11},\"global_alpha\":{\"type\":\"value\",\"value\":0.2},\"image\":{\"type\":\"field\",\"field\":\"image\"},\"color_mapper\":{\"type\":\"object\",\"name\":\"LinearColorMapper\",\"id\":\"p1967\",\"attributes\":{\"palette\":[\"#000000\",\"#252525\",\"#525252\",\"#737373\",\"#969696\",\"#bdbdbd\",\"#d9d9d9\",\"#f0f0f0\",\"#ffffff\"]}}}}}}],\"toolbar\":{\"type\":\"object\",\"name\":\"Toolbar\",\"id\":\"p1952\"},\"left\":[{\"type\":\"object\",\"name\":\"LinearAxis\",\"id\":\"p1977\",\"attributes\":{\"ticker\":{\"type\":\"object\",\"name\":\"FixedTicker\",\"id\":\"p1981\",\"attributes\":{\"ticks\":{\"type\":\"ndarray\",\"array\":{\"type\":\"bytes\",\"data\":\"AAAAAAAA4D8AAAAAAAD4PwAAAAAAAARAAAAAAAAADEAAAAAAAAASQAAAAAAAABZAAAAAAAAAGkAAAAAAAAAeQAAAAAAAACFAAAAAAAAAI0AAAAAAAAAlQA==\"},\"shape\":[11],\"dtype\":\"float64\",\"order\":\"little\"},\"minor_ticks\":[]}},\"formatter\":{\"type\":\"object\",\"name\":\"BasicTickFormatter\",\"id\":\"p1979\"},\"axis_label\":\"translation tokens\",\"major_label_overrides\":{\"type\":\"map\",\"entries\":[[0.5,\"_EOS_\"],[1.5,\".\"],[2.5,\"km\"],[3.5,\".\"],[4.5,\"5\"],[5.5,\"within\"],[6.5,\"is\"],[7.5,\"supermarket\"],[8.5,\"nearest\"],[9.5,\"the\"],[10.5,\"_BOS_\"]]},\"major_label_policy\":{\"type\":\"object\",\"name\":\"AllLabels\",\"id\":\"p1980\"}}}],\"above\":[{\"type\":\"object\",\"name\":\"LinearAxis\",\"id\":\"p1972\",\"attributes\":{\"ticker\":{\"type\":\"object\",\"name\":\"FixedTicker\",\"id\":\"p1976\",\"attributes\":{\"ticks\":{\"type\":\"ndarray\",\"array\":{\"type\":\"bytes\",\"data\":\"AAAAAAAA4D8AAAAAAAD4PwAAAAAAAARAAAAAAAAADEAAAAAAAAASQAAAAAAAABZAAAAAAAAAGkAAAAAAAAAeQAAAAAAAACFAAAAAAAAAI0AAAAAAAAAlQAAAAAAAACdAAAAAAAAAKUA=\"},\"shape\":[13],\"dtype\":\"float64\",\"order\":\"little\"},\"minor_ticks\":[]}},\"formatter\":{\"type\":\"object\",\"name\":\"BasicTickFormatter\",\"id\":\"p1974\"},\"axis_label\":\"source tokens\",\"major_label_orientation\":45,\"major_label_overrides\":{\"type\":\"map\",\"entries\":[[0.5,\"_BOS_\"],[1.5,\"\\u0432\"],[2.5,\"5\"],[3.5,\",\"],[4.5,\"5\"],[5.5,\"\\u043a\\u043c\"],[6.5,\"\\u043e\\u0442\"],[7.5,\"\\u043a\\u043e\\u043c\\u043f\\u043b\\u0435\\u043a\\u0441\\u0430\"],[8.5,\"\\u0440\\u0430\\u0431\\u043e\\u0442\\u0430\\u0435\\u0442\"],[9.5,\"\\u0431\\u043b\\u0438\\u0436\\u0430\\u0439\\u0448\\u0438\\u0439\"],[10.5,\"\\u0441\\u0443\\u043f\\u0435\\u0440\\u043c\\u0430\\u0440\\u043a\\u0435\\u0442\"],[11.5,\".\"],[12.5,\"_EOS_\"]]},\"major_label_policy\":{\"type\":\"object\",\"name\":\"AllLabels\",\"id\":\"p1975\"}}}]}}]}};\n  const render_items = [{\"docid\":\"6c28bd5c-bca3-47ae-a787-d88face14150\",\"roots\":{\"p1944\":\"d98a3fcf-dcb9-4840-97b4-dd73796fdedb\"},\"root_ids\":[\"p1944\"]}];\n  void root.Bokeh.embed.embed_items_notebook(docs_json, render_items);\n  }\n  if (root.Bokeh !== undefined) {\n    embed_document(root);\n  } else {\n    let attempts = 0;\n    const timer = setInterval(function(root) {\n      if (root.Bokeh !== undefined) {\n        clearInterval(timer);\n        embed_document(root);\n      } else {\n        attempts++;\n        if (attempts > 100) {\n          clearInterval(timer);\n          console.log(\"Bokeh: ERROR: Unable to run BokehJS code because BokehJS library is missing\");\n        }\n      }\n    }, 10, root)\n  }\n})(window);",
      "application/vnd.bokehjs_exec.v0+json": ""
     },
     "metadata": {
      "application/vnd.bokehjs_exec.v0+json": {
       "id": "p1944"
      }
     },
     "output_type": "display_data"
    },
    {
     "data": {
      "text/html": [
       "\n",
       "  <div id=\"e2eb14b4-ee58-461a-83c0-fc7f9f8db930\" data-root-id=\"p1985\" style=\"display: contents;\"></div>\n"
      ]
     },
     "metadata": {},
     "output_type": "display_data"
    },
    {
     "data": {
      "application/javascript": "(function(root) {\n  function embed_document(root) {\n  const docs_json = {\"c9e99788-3155-4258-9429-b73aac4c7297\":{\"version\":\"3.5.1\",\"title\":\"Bokeh Application\",\"roots\":[{\"type\":\"object\",\"name\":\"Figure\",\"id\":\"p1985\",\"attributes\":{\"x_range\":{\"type\":\"object\",\"name\":\"Range1d\",\"id\":\"p1994\",\"attributes\":{\"end\":20}},\"y_range\":{\"type\":\"object\",\"name\":\"Range1d\",\"id\":\"p1995\",\"attributes\":{\"end\":36}},\"x_scale\":{\"type\":\"object\",\"name\":\"LinearScale\",\"id\":\"p1996\"},\"y_scale\":{\"type\":\"object\",\"name\":\"LinearScale\",\"id\":\"p1997\"},\"title\":{\"type\":\"object\",\"name\":\"Title\",\"id\":\"p1992\"},\"renderers\":[{\"type\":\"object\",\"name\":\"GlyphRenderer\",\"id\":\"p2010\",\"attributes\":{\"data_source\":{\"type\":\"object\",\"name\":\"ColumnDataSource\",\"id\":\"p1998\",\"attributes\":{\"selected\":{\"type\":\"object\",\"name\":\"Selection\",\"id\":\"p1999\",\"attributes\":{\"indices\":[],\"line_indices\":[]}},\"selection_policy\":{\"type\":\"object\",\"name\":\"UnionRenderers\",\"id\":\"p2000\"},\"data\":{\"type\":\"map\",\"entries\":[[\"image\",[{\"type\":\"ndarray\",\"array\":{\"type\":\"bytes\",\"data\":\"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\"},\"shape\":[36,20],\"dtype\":\"float32\",\"order\":\"little\"}]]]}}},\"view\":{\"type\":\"object\",\"name\":\"CDSView\",\"id\":\"p2011\",\"attributes\":{\"filter\":{\"type\":\"object\",\"name\":\"AllIndices\",\"id\":\"p2012\"}}},\"glyph\":{\"type\":\"object\",\"name\":\"Image\",\"id\":\"p2001\",\"attributes\":{\"x\":{\"type\":\"value\",\"value\":0},\"y\":{\"type\":\"value\",\"value\":0},\"dw\":{\"type\":\"value\",\"value\":20},\"dh\":{\"type\":\"value\",\"value\":36},\"image\":{\"type\":\"field\",\"field\":\"image\"},\"color_mapper\":{\"type\":\"object\",\"name\":\"LinearColorMapper\",\"id\":\"p2002\",\"attributes\":{\"palette\":[\"#000000\",\"#252525\",\"#525252\",\"#737373\",\"#969696\",\"#bdbdbd\",\"#d9d9d9\",\"#f0f0f0\",\"#ffffff\"]}}}},\"nonselection_glyph\":{\"type\":\"object\",\"name\":\"Image\",\"id\":\"p2004\",\"attributes\":{\"x\":{\"type\":\"value\",\"value\":0},\"y\":{\"type\":\"value\",\"value\":0},\"dw\":{\"type\":\"value\",\"value\":20},\"dh\":{\"type\":\"value\",\"value\":36},\"global_alpha\":{\"type\":\"value\",\"value\":0.1},\"image\":{\"type\":\"field\",\"field\":\"image\"},\"color_mapper\":{\"type\":\"object\",\"name\":\"LinearColorMapper\",\"id\":\"p2005\",\"attributes\":{\"palette\":[\"#000000\",\"#252525\",\"#525252\",\"#737373\",\"#969696\",\"#bdbdbd\",\"#d9d9d9\",\"#f0f0f0\",\"#ffffff\"]}}}},\"muted_glyph\":{\"type\":\"object\",\"name\":\"Image\",\"id\":\"p2007\",\"attributes\":{\"x\":{\"type\":\"value\",\"value\":0},\"y\":{\"type\":\"value\",\"value\":0},\"dw\":{\"type\":\"value\",\"value\":20},\"dh\":{\"type\":\"value\",\"value\":36},\"global_alpha\":{\"type\":\"value\",\"value\":0.2},\"image\":{\"type\":\"field\",\"field\":\"image\"},\"color_mapper\":{\"type\":\"object\",\"name\":\"LinearColorMapper\",\"id\":\"p2008\",\"attributes\":{\"palette\":[\"#000000\",\"#252525\",\"#525252\",\"#737373\",\"#969696\",\"#bdbdbd\",\"#d9d9d9\",\"#f0f0f0\",\"#ffffff\"]}}}}}}],\"toolbar\":{\"type\":\"object\",\"name\":\"Toolbar\",\"id\":\"p1993\"},\"left\":[{\"type\":\"object\",\"name\":\"LinearAxis\",\"id\":\"p2018\",\"attributes\":{\"ticker\":{\"type\":\"object\",\"name\":\"FixedTicker\",\"id\":\"p2022\",\"attributes\":{\"ticks\":{\"type\":\"ndarray\",\"array\":{\"type\":\"bytes\",\"data\":\"AAAAAAAA4D8AAAAAAAD4PwAAAAAAAARAAAAAAAAADEAAAAAAAAASQAAAAAAAABZAAAAAAAAAGkAAAAAAAAAeQAAAAAAAACFAAAAAAAAAI0AAAAAAAAAlQAAAAAAAACdAAAAAAAAAKUAAAAAAAAArQAAAAAAAAC1AAAAAAAAAL0AAAAAAAIAwQAAAAAAAgDFAAAAAAACAMkAAAAAAAIAzQAAAAAAAgDRAAAAAAACANUAAAAAAAIA2QAAAAAAAgDdAAAAAAACAOEAAAAAAAIA5QAAAAAAAgDpAAAAAAACAO0AAAAAAAIA8QAAAAAAAgD1AAAAAAACAPkAAAAAAAIA/QAAAAAAAQEBAAAAAAADAQEAAAAAAAEBBQAAAAAAAwEFA\"},\"shape\":[36],\"dtype\":\"float64\",\"order\":\"little\"},\"minor_ticks\":[]}},\"formatter\":{\"type\":\"object\",\"name\":\"BasicTickFormatter\",\"id\":\"p2020\"},\"axis_label\":\"translation tokens\",\"major_label_overrides\":{\"type\":\"map\",\"entries\":[[0.5,\"_EOS_\"],[1.5,\".\"],[2.5,\"als\"],[3.5,\"par@@\"],[4.5,\"the\"],[5.5,\"from\"],[6.5,\"drive\"],[7.5,\"\\u2019\"],[8.5,\"minutes\"],[9.5,\"40\"],[10.5,\"around\"],[11.5,\",\"],[12.5,\"ales\"],[13.5,\"par@@\"],[14.5,\"to\"],[15.5,\"place\"],[16.5,\"able\"],[17.5,\"par@@\"],[18.5,\"-\"],[19.5,\"i\"],[20.5,\"ap@@\"],[21.5,\"own\"],[22.5,\"s\"],[23.5,\"cour@@\"],[24.5,\"s\"],[25.5,\"cour@@\"],[26.5,\"par@@\"],[27.5,\"a\"],[28.5,\"situated\"],[29.5,\"is\"],[30.5,\"hotel\"],[31.5,\"d\"],[32.5,\"hel@@\"],[33.5,\"casino\"],[34.5,\"hotel\"],[35.5,\"_BOS_\"]]},\"major_label_policy\":{\"type\":\"object\",\"name\":\"AllLabels\",\"id\":\"p2021\"}}}],\"above\":[{\"type\":\"object\",\"name\":\"LinearAxis\",\"id\":\"p2013\",\"attributes\":{\"ticker\":{\"type\":\"object\",\"name\":\"FixedTicker\",\"id\":\"p2017\",\"attributes\":{\"ticks\":{\"type\":\"ndarray\",\"array\":{\"type\":\"bytes\",\"data\":\"AAAAAAAA4D8AAAAAAAD4PwAAAAAAAARAAAAAAAAADEAAAAAAAAASQAAAAAAAABZAAAAAAAAAGkAAAAAAAAAeQAAAAAAAACFAAAAAAAAAI0AAAAAAAAAlQAAAAAAAACdAAAAAAAAAKUAAAAAAAAArQAAAAAAAAC1AAAAAAAAAL0AAAAAAAIAwQAAAAAAAgDFAAAAAAACAMkAAAAAAAIAzQA==\"},\"shape\":[20],\"dtype\":\"float64\",\"order\":\"little\"},\"minor_ticks\":[]}},\"formatter\":{\"type\":\"object\",\"name\":\"BasicTickFormatter\",\"id\":\"p2015\"},\"axis_label\":\"source tokens\",\"major_label_orientation\":45,\"major_label_overrides\":{\"type\":\"map\",\"entries\":[[0.5,\"_BOS_\"],[1.5,\"\\u043e\\u0442\\u0435\\u043b\\u044c\"],[2.5,\"-\"],[3.5,\"\\u043a\\u0430\\u0437\\u0438\\u043d\\u043e\"],[4.5,\"atlanti@@\"],[5.5,\"s\"],[6.5,\"\\u0440\\u0430\\u0441\\u043f\\u043e\\u043b\\u043e\\u0436\\u0435\\u043d\"],[7.5,\"\\u0432\"],[8.5,\"\\u0444\\u0438\\u043d\\u0430\\u043d@@\"],[9.5,\"\\u0441\\u043e@@\"],[10.5,\"\\u0432\\u043e\"],[11.5,\"-\"],[12.5,\"\\u043a\\u043e\\u043c\\u043c\\u0435\\u0440@@\"],[13.5,\"\\u0447\\u0435\\u0441\\u043a\\u043e\\u043c\"],[14.5,\"\\u0440\\u0430\\u0439\\u043e\\u043d\\u0435\"],[15.5,\"\\u043f\\u0430\\u0440\\u0430@@\"],[16.5,\"\\u043c\\u0430\\u0440\\u0438@@\"],[17.5,\"\\u0431\\u043e\"],[18.5,\".\"],[19.5,\"_EOS_\"]]},\"major_label_policy\":{\"type\":\"object\",\"name\":\"AllLabels\",\"id\":\"p2016\"}}}]}}]}};\n  const render_items = [{\"docid\":\"c9e99788-3155-4258-9429-b73aac4c7297\",\"roots\":{\"p1985\":\"e2eb14b4-ee58-461a-83c0-fc7f9f8db930\"},\"root_ids\":[\"p1985\"]}];\n  void root.Bokeh.embed.embed_items_notebook(docs_json, render_items);\n  }\n  if (root.Bokeh !== undefined) {\n    embed_document(root);\n  } else {\n    let attempts = 0;\n    const timer = setInterval(function(root) {\n      if (root.Bokeh !== undefined) {\n        clearInterval(timer);\n        embed_document(root);\n      } else {\n        attempts++;\n        if (attempts > 100) {\n          clearInterval(timer);\n          console.log(\"Bokeh: ERROR: Unable to run BokehJS code because BokehJS library is missing\");\n        }\n      }\n    }, 10, root)\n  }\n})(window);",
      "application/vnd.bokehjs_exec.v0+json": ""
     },
     "metadata": {
      "application/vnd.bokehjs_exec.v0+json": {
       "id": "p1985"
      }
     },
     "output_type": "display_data"
    },
    {
     "data": {
      "text/html": [
       "\n",
       "  <div id=\"f0a312e9-4bc7-41f8-8457-ac4d613be146\" data-root-id=\"p2026\" style=\"display: contents;\"></div>\n"
      ]
     },
     "metadata": {},
     "output_type": "display_data"
    },
    {
     "data": {
      "application/javascript": "(function(root) {\n  function embed_document(root) {\n  const docs_json = {\"af820282-d704-4037-8c84-a3bf6e959ea6\":{\"version\":\"3.5.1\",\"title\":\"Bokeh Application\",\"roots\":[{\"type\":\"object\",\"name\":\"Figure\",\"id\":\"p2026\",\"attributes\":{\"x_range\":{\"type\":\"object\",\"name\":\"Range1d\",\"id\":\"p2035\",\"attributes\":{\"end\":13}},\"y_range\":{\"type\":\"object\",\"name\":\"Range1d\",\"id\":\"p2036\",\"attributes\":{\"end\":9}},\"x_scale\":{\"type\":\"object\",\"name\":\"LinearScale\",\"id\":\"p2037\"},\"y_scale\":{\"type\":\"object\",\"name\":\"LinearScale\",\"id\":\"p2038\"},\"title\":{\"type\":\"object\",\"name\":\"Title\",\"id\":\"p2033\"},\"renderers\":[{\"type\":\"object\",\"name\":\"GlyphRenderer\",\"id\":\"p2051\",\"attributes\":{\"data_source\":{\"type\":\"object\",\"name\":\"ColumnDataSource\",\"id\":\"p2039\",\"attributes\":{\"selected\":{\"type\":\"object\",\"name\":\"Selection\",\"id\":\"p2040\",\"attributes\":{\"indices\":[],\"line_indices\":[]}},\"selection_policy\":{\"type\":\"object\",\"name\":\"UnionRenderers\",\"id\":\"p2041\"},\"data\":{\"type\":\"map\",\"entries\":[[\"image\",[{\"type\":\"ndarray\",\"array\":{\"type\":\"bytes\",\"data\":\"jNx2P6Ma5zkbo6g4xS/mOBiI3jhoFFE6HObUOfhWjzpGxJk6/tRGO5gM5Dv+oUI8vY8dPBFRSD9iO3g3sK9IOL7z/zm87k45KzECOuq7yDsZegc7rphgOd+hPTsE7B0848KtPNJLMj5UMBY8APNMOK6W4jiy5qI5HaTAOSYMzTqNsmw8CndNPGp1GzvGMQ0/L0QePJgkZz6dRzA+aHxpP6ssVzkJIpQ69bCtOQiLgjktIKU7zs1oOtT3ATsAfv06XOu1PEjvPDsB7aA77ys9PdgPTT4MEgE5q2BkO+2xEjtW4wM6ezStOyl9IDyVHzA8sh0aOqBtvj5DK5M9HEJbPlRe3z2QHi05CSIYOGOYPDhtbdc5T7vaOI5QeDqfWwo8qsCPPRR2uDqWXbg8fgciPqcr4j5Lb5c+QR1HO07GcjmTziU6RdpdO9Jh8zpWfMY7GqiRPV3KujxmpsI6W/TJPn+qlz3ab8A+rno4PUeTMzdoD9U1ekpFNdhM1Dr1eak8QP3lPRVmBj36KLM+9EgGPR2puT5rtZ89Mf71Ojnv8Tt0y6411l0XM+p+LTWO7bM3aBnOPlf58jv7sI46CYlPPcLqDzzbjwk9sMD7PufpHTv9+Ok6\"},\"shape\":[9,13],\"dtype\":\"float32\",\"order\":\"little\"}]]]}}},\"view\":{\"type\":\"object\",\"name\":\"CDSView\",\"id\":\"p2052\",\"attributes\":{\"filter\":{\"type\":\"object\",\"name\":\"AllIndices\",\"id\":\"p2053\"}}},\"glyph\":{\"type\":\"object\",\"name\":\"Image\",\"id\":\"p2042\",\"attributes\":{\"x\":{\"type\":\"value\",\"value\":0},\"y\":{\"type\":\"value\",\"value\":0},\"dw\":{\"type\":\"value\",\"value\":13},\"dh\":{\"type\":\"value\",\"value\":9},\"image\":{\"type\":\"field\",\"field\":\"image\"},\"color_mapper\":{\"type\":\"object\",\"name\":\"LinearColorMapper\",\"id\":\"p2043\",\"attributes\":{\"palette\":[\"#000000\",\"#252525\",\"#525252\",\"#737373\",\"#969696\",\"#bdbdbd\",\"#d9d9d9\",\"#f0f0f0\",\"#ffffff\"]}}}},\"nonselection_glyph\":{\"type\":\"object\",\"name\":\"Image\",\"id\":\"p2045\",\"attributes\":{\"x\":{\"type\":\"value\",\"value\":0},\"y\":{\"type\":\"value\",\"value\":0},\"dw\":{\"type\":\"value\",\"value\":13},\"dh\":{\"type\":\"value\",\"value\":9},\"global_alpha\":{\"type\":\"value\",\"value\":0.1},\"image\":{\"type\":\"field\",\"field\":\"image\"},\"color_mapper\":{\"type\":\"object\",\"name\":\"LinearColorMapper\",\"id\":\"p2046\",\"attributes\":{\"palette\":[\"#000000\",\"#252525\",\"#525252\",\"#737373\",\"#969696\",\"#bdbdbd\",\"#d9d9d9\",\"#f0f0f0\",\"#ffffff\"]}}}},\"muted_glyph\":{\"type\":\"object\",\"name\":\"Image\",\"id\":\"p2048\",\"attributes\":{\"x\":{\"type\":\"value\",\"value\":0},\"y\":{\"type\":\"value\",\"value\":0},\"dw\":{\"type\":\"value\",\"value\":13},\"dh\":{\"type\":\"value\",\"value\":9},\"global_alpha\":{\"type\":\"value\",\"value\":0.2},\"image\":{\"type\":\"field\",\"field\":\"image\"},\"color_mapper\":{\"type\":\"object\",\"name\":\"LinearColorMapper\",\"id\":\"p2049\",\"attributes\":{\"palette\":[\"#000000\",\"#252525\",\"#525252\",\"#737373\",\"#969696\",\"#bdbdbd\",\"#d9d9d9\",\"#f0f0f0\",\"#ffffff\"]}}}}}}],\"toolbar\":{\"type\":\"object\",\"name\":\"Toolbar\",\"id\":\"p2034\"},\"left\":[{\"type\":\"object\",\"name\":\"LinearAxis\",\"id\":\"p2059\",\"attributes\":{\"ticker\":{\"type\":\"object\",\"name\":\"FixedTicker\",\"id\":\"p2063\",\"attributes\":{\"ticks\":{\"type\":\"ndarray\",\"array\":{\"type\":\"bytes\",\"data\":\"AAAAAAAA4D8AAAAAAAD4PwAAAAAAAARAAAAAAAAADEAAAAAAAAASQAAAAAAAABZAAAAAAAAAGkAAAAAAAAAeQAAAAAAAACFA\"},\"shape\":[9],\"dtype\":\"float64\",\"order\":\"little\"},\"minor_ticks\":[]}},\"formatter\":{\"type\":\"object\",\"name\":\"BasicTickFormatter\",\"id\":\"p2061\"},\"axis_label\":\"translation tokens\",\"major_label_overrides\":{\"type\":\"map\",\"entries\":[[0.5,\"_EOS_\"],[1.5,\".\"],[2.5,\"away\"],[3.5,\"km\"],[4.5,\"26\"],[5.5,\"is\"],[6.5,\"cathedral\"],[7.5,\"kissimmee\"],[8.5,\"_BOS_\"]]},\"major_label_policy\":{\"type\":\"object\",\"name\":\"AllLabels\",\"id\":\"p2062\"}}}],\"above\":[{\"type\":\"object\",\"name\":\"LinearAxis\",\"id\":\"p2054\",\"attributes\":{\"ticker\":{\"type\":\"object\",\"name\":\"FixedTicker\",\"id\":\"p2058\",\"attributes\":{\"ticks\":{\"type\":\"ndarray\",\"array\":{\"type\":\"bytes\",\"data\":\"AAAAAAAA4D8AAAAAAAD4PwAAAAAAAARAAAAAAAAADEAAAAAAAAASQAAAAAAAABZAAAAAAAAAGkAAAAAAAAAeQAAAAAAAACFAAAAAAAAAI0AAAAAAAAAlQAAAAAAAACdAAAAAAAAAKUA=\"},\"shape\":[13],\"dtype\":\"float64\",\"order\":\"little\"},\"minor_ticks\":[]}},\"formatter\":{\"type\":\"object\",\"name\":\"BasicTickFormatter\",\"id\":\"p2056\"},\"axis_label\":\"source tokens\",\"major_label_orientation\":45,\"major_label_overrides\":{\"type\":\"map\",\"entries\":[[0.5,\"_BOS_\"],[1.5,\"\\u0440\\u0430\\u0441\\u0441\\u0442\\u043e\\u044f\\u043d\\u0438\\u0435\"],[2.5,\"\\u0434\\u043e\"],[3.5,\"\\u0433\\u043e\\u0440\\u043e\\u0434\\u0430\"],[4.5,\"\\u043a\\u0438@@\"],[5.5,\"\\u0441\\u0441\\u0438@@\"],[6.5,\"\\u043c@@\"],[7.5,\"\\u043c\\u0438\"],[8.5,\"\\u0441\\u043e\\u0441\\u0442\\u0430\\u0432\\u043b\\u044f\\u0435\\u0442\"],[9.5,\"26\"],[10.5,\"\\u043a\\u043c\"],[11.5,\".\"],[12.5,\"_EOS_\"]]},\"major_label_policy\":{\"type\":\"object\",\"name\":\"AllLabels\",\"id\":\"p2057\"}}}]}}]}};\n  const render_items = [{\"docid\":\"af820282-d704-4037-8c84-a3bf6e959ea6\",\"roots\":{\"p2026\":\"f0a312e9-4bc7-41f8-8457-ac4d613be146\"},\"root_ids\":[\"p2026\"]}];\n  void root.Bokeh.embed.embed_items_notebook(docs_json, render_items);\n  }\n  if (root.Bokeh !== undefined) {\n    embed_document(root);\n  } else {\n    let attempts = 0;\n    const timer = setInterval(function(root) {\n      if (root.Bokeh !== undefined) {\n        clearInterval(timer);\n        embed_document(root);\n      } else {\n        attempts++;\n        if (attempts > 100) {\n          clearInterval(timer);\n          console.log(\"Bokeh: ERROR: Unable to run BokehJS code because BokehJS library is missing\");\n        }\n      }\n    }, 10, root)\n  }\n})(window);",
      "application/vnd.bokehjs_exec.v0+json": ""
     },
     "metadata": {
      "application/vnd.bokehjs_exec.v0+json": {
       "id": "p2026"
      }
     },
     "output_type": "display_data"
    },
    {
     "data": {
      "text/html": [
       "\n",
       "  <div id=\"b3230005-9b2b-41cc-84ba-436d45e93455\" data-root-id=\"p2067\" style=\"display: contents;\"></div>\n"
      ]
     },
     "metadata": {},
     "output_type": "display_data"
    },
    {
     "data": {
      "application/javascript": "(function(root) {\n  function embed_document(root) {\n  const docs_json = {\"a5379dcf-6bd8-4d55-8670-04f038cf1326\":{\"version\":\"3.5.1\",\"title\":\"Bokeh Application\",\"roots\":[{\"type\":\"object\",\"name\":\"Figure\",\"id\":\"p2067\",\"attributes\":{\"x_range\":{\"type\":\"object\",\"name\":\"Range1d\",\"id\":\"p2076\",\"attributes\":{\"end\":33}},\"y_range\":{\"type\":\"object\",\"name\":\"Range1d\",\"id\":\"p2077\",\"attributes\":{\"end\":32}},\"x_scale\":{\"type\":\"object\",\"name\":\"LinearScale\",\"id\":\"p2078\"},\"y_scale\":{\"type\":\"object\",\"name\":\"LinearScale\",\"id\":\"p2079\"},\"title\":{\"type\":\"object\",\"name\":\"Title\",\"id\":\"p2074\"},\"renderers\":[{\"type\":\"object\",\"name\":\"GlyphRenderer\",\"id\":\"p2092\",\"attributes\":{\"data_source\":{\"type\":\"object\",\"name\":\"ColumnDataSource\",\"id\":\"p2080\",\"attributes\":{\"selected\":{\"type\":\"object\",\"name\":\"Selection\",\"id\":\"p2081\",\"attributes\":{\"indices\":[],\"line_indices\":[]}},\"selection_policy\":{\"type\":\"object\",\"name\":\"UnionRenderers\",\"id\":\"p2082\"},\"data\":{\"type\":\"map\",\"entries\":[[\"image\",[{\"type\":\"ndarray\",\"array\":{\"type\":\"bytes\",\"data\":\"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\"},\"shape\":[32,33],\"dtype\":\"float32\",\"order\":\"little\"}]]]}}},\"view\":{\"type\":\"object\",\"name\":\"CDSView\",\"id\":\"p2093\",\"attributes\":{\"filter\":{\"type\":\"object\",\"name\":\"AllIndices\",\"id\":\"p2094\"}}},\"glyph\":{\"type\":\"object\",\"name\":\"Image\",\"id\":\"p2083\",\"attributes\":{\"x\":{\"type\":\"value\",\"value\":0},\"y\":{\"type\":\"value\",\"value\":0},\"dw\":{\"type\":\"value\",\"value\":33},\"dh\":{\"type\":\"value\",\"value\":32},\"image\":{\"type\":\"field\",\"field\":\"image\"},\"color_mapper\":{\"type\":\"object\",\"name\":\"LinearColorMapper\",\"id\":\"p2084\",\"attributes\":{\"palette\":[\"#000000\",\"#252525\",\"#525252\",\"#737373\",\"#969696\",\"#bdbdbd\",\"#d9d9d9\",\"#f0f0f0\",\"#ffffff\"]}}}},\"nonselection_glyph\":{\"type\":\"object\",\"name\":\"Image\",\"id\":\"p2086\",\"attributes\":{\"x\":{\"type\":\"value\",\"value\":0},\"y\":{\"type\":\"value\",\"value\":0},\"dw\":{\"type\":\"value\",\"value\":33},\"dh\":{\"type\":\"value\",\"value\":32},\"global_alpha\":{\"type\":\"value\",\"value\":0.1},\"image\":{\"type\":\"field\",\"field\":\"image\"},\"color_mapper\":{\"type\":\"object\",\"name\":\"LinearColorMapper\",\"id\":\"p2087\",\"attributes\":{\"palette\":[\"#000000\",\"#252525\",\"#525252\",\"#737373\",\"#969696\",\"#bdbdbd\",\"#d9d9d9\",\"#f0f0f0\",\"#ffffff\"]}}}},\"muted_glyph\":{\"type\":\"object\",\"name\":\"Image\",\"id\":\"p2089\",\"attributes\":{\"x\":{\"type\":\"value\",\"value\":0},\"y\":{\"type\":\"value\",\"value\":0},\"dw\":{\"type\":\"value\",\"value\":33},\"dh\":{\"type\":\"value\",\"value\":32},\"global_alpha\":{\"type\":\"value\",\"value\":0.2},\"image\":{\"type\":\"field\",\"field\":\"image\"},\"color_mapper\":{\"type\":\"object\",\"name\":\"LinearColorMapper\",\"id\":\"p2090\",\"attributes\":{\"palette\":[\"#000000\",\"#252525\",\"#525252\",\"#737373\",\"#969696\",\"#bdbdbd\",\"#d9d9d9\",\"#f0f0f0\",\"#ffffff\"]}}}}}}],\"toolbar\":{\"type\":\"object\",\"name\":\"Toolbar\",\"id\":\"p2075\"},\"left\":[{\"type\":\"object\",\"name\":\"LinearAxis\",\"id\":\"p2100\",\"attributes\":{\"ticker\":{\"type\":\"object\",\"name\":\"FixedTicker\",\"id\":\"p2104\",\"attributes\":{\"ticks\":{\"type\":\"ndarray\",\"array\":{\"type\":\"bytes\",\"data\":\"AAAAAAAA4D8AAAAAAAD4PwAAAAAAAARAAAAAAAAADEAAAAAAAAASQAAAAAAAABZAAAAAAAAAGkAAAAAAAAAeQAAAAAAAACFAAAAAAAAAI0AAAAAAAAAlQAAAAAAAACdAAAAAAAAAKUAAAAAAAAArQAAAAAAAAC1AAAAAAAAAL0AAAAAAAIAwQAAAAAAAgDFAAAAAAACAMkAAAAAAAIAzQAAAAAAAgDRAAAAAAACANUAAAAAAAIA2QAAAAAAAgDdAAAAAAACAOEAAAAAAAIA5QAAAAAAAgDpAAAAAAACAO0AAAAAAAIA8QAAAAAAAgD1AAAAAAACAPkAAAAAAAIA/QA==\"},\"shape\":[32],\"dtype\":\"float64\",\"order\":\"little\"},\"minor_ticks\":[]}},\"formatter\":{\"type\":\"object\",\"name\":\"BasicTickFormatter\",\"id\":\"p2102\"},\"axis_label\":\"translation tokens\",\"major_label_overrides\":{\"type\":\"map\",\"entries\":[[0.5,\"_EOS_\"],[1.5,\".\"],[2.5,\"features\"],[3.5,\"in@@\"],[4.5,\"town\"],[5.5,\"swiss\"],[6.5,\"an\"],[7.5,\"g@@\"],[8.5,\"brun@@\"],[9.5,\"hof@@\"],[10.5,\"chinese\"],[11.5,\",\"],[12.5,\"rooms\"],[13.5,\"cosy\"],[14.5,\"the\"],[15.5,\"from\"],[16.5,\"km\"],[17.5,\"1\"],[18.5,\",\"],[19.5,\"suite\"],[20.5,\"en\"],[21.5,\"and\"],[22.5,\"rooms\"],[23.5,\"offers\"],[24.5,\"ig\"],[25.5,\"re@@\"],[26.5,\"bet@@\"],[27.5,\"ti@@\"],[28.5,\"-\"],[29.5,\"national\"],[30.5,\"the\"],[31.5,\"_BOS_\"]]},\"major_label_policy\":{\"type\":\"object\",\"name\":\"AllLabels\",\"id\":\"p2103\"}}}],\"above\":[{\"type\":\"object\",\"name\":\"LinearAxis\",\"id\":\"p2095\",\"attributes\":{\"ticker\":{\"type\":\"object\",\"name\":\"FixedTicker\",\"id\":\"p2099\",\"attributes\":{\"ticks\":{\"type\":\"ndarray\",\"array\":{\"type\":\"bytes\",\"data\":\"AAAAAAAA4D8AAAAAAAD4PwAAAAAAAARAAAAAAAAADEAAAAAAAAASQAAAAAAAABZAAAAAAAAAGkAAAAAAAAAeQAAAAAAAACFAAAAAAAAAI0AAAAAAAAAlQAAAAAAAACdAAAAAAAAAKUAAAAAAAAArQAAAAAAAAC1AAAAAAAAAL0AAAAAAAIAwQAAAAAAAgDFAAAAAAACAMkAAAAAAAIAzQAAAAAAAgDRAAAAAAACANUAAAAAAAIA2QAAAAAAAgDdAAAAAAACAOEAAAAAAAIA5QAAAAAAAgDpAAAAAAACAO0AAAAAAAIA8QAAAAAAAgD1AAAAAAACAPkAAAAAAAIA/QAAAAAAAQEBA\"},\"shape\":[33],\"dtype\":\"float64\",\"order\":\"little\"},\"minor_ticks\":[]}},\"formatter\":{\"type\":\"object\",\"name\":\"BasicTickFormatter\",\"id\":\"p2097\"},\"axis_label\":\"source tokens\",\"major_label_orientation\":45,\"major_label_overrides\":{\"type\":\"map\",\"entries\":[[0.5,\"_BOS_\"],[1.5,\"\\u043e\\u0442\\u0435\\u043b\\u044c\"],[2.5,\"st@@\"],[3.5,\"al@@\"],[4.5,\"den\"],[5.5,\"\\u0440\\u0430\\u0441\\u043f\\u043e\\u043b\\u043e\\u0436\\u0435\\u043d\"],[6.5,\"\\u043d\\u0430\"],[7.5,\"\\u0433\\u043b\\u0430\\u0432\\u043d\\u043e\\u0439\"],[8.5,\"\\u0434\\u043e\\u0440\\u043e@@\"],[9.5,\"\\u0433\\u043e\"],[10.5,\",\"],[11.5,\"\\u0432\"],[12.5,\"4\"],[13.5,\"\\u043a\\u043c\"],[14.5,\"\\u0434\\u043e\"],[15.5,\"\\u0433\\u0440\\u0438\\u043d@@\"],[16.5,\"\\u0434\\u0435\\u043b\\u044c@@\"],[17.5,\"\\u0432\\u0430\\u043b\\u044c@@\"],[18.5,\"\\u0434\\u0430\"],[19.5,\".\"],[20.5,\"\\u0433\\u043e\\u0441\\u0442\\u044f\\u043c\"],[21.5,\"\\u043f\\u0440\\u0435\\u0434\\u043b\\u0430\\u0433\\u0430\\u044e\\u0442\\u0441\\u044f\"],[22.5,\"\\u0443\\u044e\\u0442\\u043d\\u044b\\u0435\"],[23.5,\"\\u043d\\u043e\\u043c\\u0435\\u0440\\u0430\"],[24.5,\"\\u0438\"],[25.5,\"\\u043e\\u0447\\u0430\\u0440\\u043e\\u0432\\u0430\\u0442\\u0435\\u043b\\u044c\\u043d\\u044b\\u0439\"],[26.5,\"\\u0440\\u0435\\u0441\\u0442\\u043e\\u0440\\u0430\\u043d\"],[27.5,\"\\u0438\\u0437\\u044b\\u0441\\u043a\\u0430\\u043d\\u043d\\u043e\\u0439\"],[28.5,\"\\u0448\\u0432\\u0435\\u0439\\u0446\\u0430\\u0440@@\"],[29.5,\"\\u0441\\u043a\\u043e\\u0439\"],[30.5,\"\\u043a\\u0443\\u0445\\u043d\\u0438\"],[31.5,\".\"],[32.5,\"_EOS_\"]]},\"major_label_policy\":{\"type\":\"object\",\"name\":\"AllLabels\",\"id\":\"p2098\"}}}]}}]}};\n  const render_items = [{\"docid\":\"a5379dcf-6bd8-4d55-8670-04f038cf1326\",\"roots\":{\"p2067\":\"b3230005-9b2b-41cc-84ba-436d45e93455\"},\"root_ids\":[\"p2067\"]}];\n  void root.Bokeh.embed.embed_items_notebook(docs_json, render_items);\n  }\n  if (root.Bokeh !== undefined) {\n    embed_document(root);\n  } else {\n    let attempts = 0;\n    const timer = setInterval(function(root) {\n      if (root.Bokeh !== undefined) {\n        clearInterval(timer);\n        embed_document(root);\n      } else {\n        attempts++;\n        if (attempts > 100) {\n          clearInterval(timer);\n          console.log(\"Bokeh: ERROR: Unable to run BokehJS code because BokehJS library is missing\");\n        }\n      }\n    }, 10, root)\n  }\n})(window);",
      "application/vnd.bokehjs_exec.v0+json": ""
     },
     "metadata": {
      "application/vnd.bokehjs_exec.v0+json": {
       "id": "p2067"
      }
     },
     "output_type": "display_data"
    },
    {
     "data": {
      "text/html": [
       "\n",
       "  <div id=\"ed568f37-d397-4f43-9283-6a3a502b5f51\" data-root-id=\"p2108\" style=\"display: contents;\"></div>\n"
      ]
     },
     "metadata": {},
     "output_type": "display_data"
    },
    {
     "data": {
      "application/javascript": "(function(root) {\n  function embed_document(root) {\n  const docs_json = {\"9ea26f41-e369-4242-85a0-d911b02a3655\":{\"version\":\"3.5.1\",\"title\":\"Bokeh Application\",\"roots\":[{\"type\":\"object\",\"name\":\"Figure\",\"id\":\"p2108\",\"attributes\":{\"x_range\":{\"type\":\"object\",\"name\":\"Range1d\",\"id\":\"p2117\",\"attributes\":{\"end\":13}},\"y_range\":{\"type\":\"object\",\"name\":\"Range1d\",\"id\":\"p2118\",\"attributes\":{\"end\":14}},\"x_scale\":{\"type\":\"object\",\"name\":\"LinearScale\",\"id\":\"p2119\"},\"y_scale\":{\"type\":\"object\",\"name\":\"LinearScale\",\"id\":\"p2120\"},\"title\":{\"type\":\"object\",\"name\":\"Title\",\"id\":\"p2115\"},\"renderers\":[{\"type\":\"object\",\"name\":\"GlyphRenderer\",\"id\":\"p2133\",\"attributes\":{\"data_source\":{\"type\":\"object\",\"name\":\"ColumnDataSource\",\"id\":\"p2121\",\"attributes\":{\"selected\":{\"type\":\"object\",\"name\":\"Selection\",\"id\":\"p2122\",\"attributes\":{\"indices\":[],\"line_indices\":[]}},\"selection_policy\":{\"type\":\"object\",\"name\":\"UnionRenderers\",\"id\":\"p2123\"},\"data\":{\"type\":\"map\",\"entries\":[[\"image\",[{\"type\":\"ndarray\",\"array\":{\"type\":\"bytes\",\"data\":\"ZOntPm8IiTts23M7jxaoOyV8wjsL/uE75GOHPPBuVDtjfgE8pQUlPSHmGj6f7IY9DL1lPhpHbT9sFHg6D3wIO05/0jrV3IU62OKLOWu+6TlnZ7Q6V9igOyTffTvc2vI7sTXBPIHL0TxK2c89ASr9N9AyzTpd8wk7yyOAOQ7RSTk/Qto6Q5s5O20W0zruL5I8dE7aPVna3DxIozw/rzF/P9hCUzgS+Qg4GNscOQGvZDngpt03pv5eODNDEDqv9yk4rwoIOtM5ETlxKhM62dpTOl/0ZT+Ur0o80eacOZqkPzqKPxI8l6M4OzEPGDxtDDI8WaLvOonP7jtEbJk78kHvOwzIED0RnW0/DwK/Of81lDvQR6879UQQOx9dgDrNsyo8UWO7PGpYcTvxxQU7Eq9AOzcYYTuDNFU828etPoglvjrNqJ86ko8KPS3LETy4CZY8rX3XOxXGET3fL5087zbFPFUwkzyWXQw+eXq2PkmViDxkHPc3eoyOO8vyYTtA6yI6cjYlOipHjzos9Rg73EeaPJD+SzygTQ89Q8G8PgUwCT9N+mA/A2W3OEOocDuAv+Q8Bo+wOqypHzrkTBo69dywOWz4GDySh4g6qEcXO9W/LjwukIE9uzV6P4UX/DcAD4M5B4yKOhRxjDp2pVs5ZCVQOamhmDr4hfE5Kc+lOYW0QzqAUqo6eIuBPMthMDv5EcM5jRzGO71lYjzrHK063SEBO/GkHTpnLgQ9RdYFPsTgIT3Z5C091g8MP6t2OT56nQ46YfOaOeg+wjxmjJk9ltcIOxp/ljvfIhw6xxRHPCuypT5vGcY9WRaxPUrWQz6NXjs+mfd6N2Ml8TVA8bI9pqXuPaleGDw5uWU8zlUJPXboiz0F3Bk+rb7pPRsIxD7ojOc7LOiHPOABdDbQiSc4ZciDPZ3o1zxLzY07j9fSOJR1GDv+5oI68S4jP4N/lDzhCFA+dE4JPUirFzw=\"},\"shape\":[14,13],\"dtype\":\"float32\",\"order\":\"little\"}]]]}}},\"view\":{\"type\":\"object\",\"name\":\"CDSView\",\"id\":\"p2134\",\"attributes\":{\"filter\":{\"type\":\"object\",\"name\":\"AllIndices\",\"id\":\"p2135\"}}},\"glyph\":{\"type\":\"object\",\"name\":\"Image\",\"id\":\"p2124\",\"attributes\":{\"x\":{\"type\":\"value\",\"value\":0},\"y\":{\"type\":\"value\",\"value\":0},\"dw\":{\"type\":\"value\",\"value\":13},\"dh\":{\"type\":\"value\",\"value\":14},\"image\":{\"type\":\"field\",\"field\":\"image\"},\"color_mapper\":{\"type\":\"object\",\"name\":\"LinearColorMapper\",\"id\":\"p2125\",\"attributes\":{\"palette\":[\"#000000\",\"#252525\",\"#525252\",\"#737373\",\"#969696\",\"#bdbdbd\",\"#d9d9d9\",\"#f0f0f0\",\"#ffffff\"]}}}},\"nonselection_glyph\":{\"type\":\"object\",\"name\":\"Image\",\"id\":\"p2127\",\"attributes\":{\"x\":{\"type\":\"value\",\"value\":0},\"y\":{\"type\":\"value\",\"value\":0},\"dw\":{\"type\":\"value\",\"value\":13},\"dh\":{\"type\":\"value\",\"value\":14},\"global_alpha\":{\"type\":\"value\",\"value\":0.1},\"image\":{\"type\":\"field\",\"field\":\"image\"},\"color_mapper\":{\"type\":\"object\",\"name\":\"LinearColorMapper\",\"id\":\"p2128\",\"attributes\":{\"palette\":[\"#000000\",\"#252525\",\"#525252\",\"#737373\",\"#969696\",\"#bdbdbd\",\"#d9d9d9\",\"#f0f0f0\",\"#ffffff\"]}}}},\"muted_glyph\":{\"type\":\"object\",\"name\":\"Image\",\"id\":\"p2130\",\"attributes\":{\"x\":{\"type\":\"value\",\"value\":0},\"y\":{\"type\":\"value\",\"value\":0},\"dw\":{\"type\":\"value\",\"value\":13},\"dh\":{\"type\":\"value\",\"value\":14},\"global_alpha\":{\"type\":\"value\",\"value\":0.2},\"image\":{\"type\":\"field\",\"field\":\"image\"},\"color_mapper\":{\"type\":\"object\",\"name\":\"LinearColorMapper\",\"id\":\"p2131\",\"attributes\":{\"palette\":[\"#000000\",\"#252525\",\"#525252\",\"#737373\",\"#969696\",\"#bdbdbd\",\"#d9d9d9\",\"#f0f0f0\",\"#ffffff\"]}}}}}}],\"toolbar\":{\"type\":\"object\",\"name\":\"Toolbar\",\"id\":\"p2116\"},\"left\":[{\"type\":\"object\",\"name\":\"LinearAxis\",\"id\":\"p2141\",\"attributes\":{\"ticker\":{\"type\":\"object\",\"name\":\"FixedTicker\",\"id\":\"p2145\",\"attributes\":{\"ticks\":{\"type\":\"ndarray\",\"array\":{\"type\":\"bytes\",\"data\":\"AAAAAAAA4D8AAAAAAAD4PwAAAAAAAARAAAAAAAAADEAAAAAAAAASQAAAAAAAABZAAAAAAAAAGkAAAAAAAAAeQAAAAAAAACFAAAAAAAAAI0AAAAAAAAAlQAAAAAAAACdAAAAAAAAAKUAAAAAAAAArQA==\"},\"shape\":[14],\"dtype\":\"float64\",\"order\":\"little\"},\"minor_ticks\":[]}},\"formatter\":{\"type\":\"object\",\"name\":\"BasicTickFormatter\",\"id\":\"p2143\"},\"axis_label\":\"translation tokens\",\"major_label_overrides\":{\"type\":\"map\",\"entries\":[[0.5,\"_EOS_\"],[1.5,\".\"],[2.5,\"away\"],[3.5,\"drive\"],[4.5,\"minute\"],[5.5,\"-\"],[6.5,\"5\"],[7.5,\"a\"],[8.5,\"is\"],[9.5,\"ica\"],[10.5,\"por@@\"],[11.5,\"club\"],[12.5,\"golf\"],[13.5,\"_BOS_\"]]},\"major_label_policy\":{\"type\":\"object\",\"name\":\"AllLabels\",\"id\":\"p2144\"}}}],\"above\":[{\"type\":\"object\",\"name\":\"LinearAxis\",\"id\":\"p2136\",\"attributes\":{\"ticker\":{\"type\":\"object\",\"name\":\"FixedTicker\",\"id\":\"p2140\",\"attributes\":{\"ticks\":{\"type\":\"ndarray\",\"array\":{\"type\":\"bytes\",\"data\":\"AAAAAAAA4D8AAAAAAAD4PwAAAAAAAARAAAAAAAAADEAAAAAAAAASQAAAAAAAABZAAAAAAAAAGkAAAAAAAAAeQAAAAAAAACFAAAAAAAAAI0AAAAAAAAAlQAAAAAAAACdAAAAAAAAAKUA=\"},\"shape\":[13],\"dtype\":\"float64\",\"order\":\"little\"},\"minor_ticks\":[]}},\"formatter\":{\"type\":\"object\",\"name\":\"BasicTickFormatter\",\"id\":\"p2138\"},\"axis_label\":\"source tokens\",\"major_label_orientation\":45,\"major_label_overrides\":{\"type\":\"map\",\"entries\":[[0.5,\"_BOS_\"],[1.5,\"\\u0437\\u0430\"],[2.5,\"5\"],[3.5,\"\\u043c\\u0438\\u043d\\u0443\\u0442\"],[4.5,\"\\u043c\\u043e\\u0436\\u043d\\u043e\"],[5.5,\"\\u0434\\u043e\\u0435\\u0445\\u0430\\u0442\\u044c\"],[6.5,\"\\u0434\\u043e\"],[7.5,\"\\u0433\\u043e\\u0440\\u043e\\u0434\\u043a\\u0430\"],[8.5,\"\\u043c\\u0435\\u043d\\u0430@@\"],[9.5,\"\\u0434\\u0436@@\"],[10.5,\"\\u043e\"],[11.5,\".\"],[12.5,\"_EOS_\"]]},\"major_label_policy\":{\"type\":\"object\",\"name\":\"AllLabels\",\"id\":\"p2139\"}}}]}}]}};\n  const render_items = [{\"docid\":\"9ea26f41-e369-4242-85a0-d911b02a3655\",\"roots\":{\"p2108\":\"ed568f37-d397-4f43-9283-6a3a502b5f51\"},\"root_ids\":[\"p2108\"]}];\n  void root.Bokeh.embed.embed_items_notebook(docs_json, render_items);\n  }\n  if (root.Bokeh !== undefined) {\n    embed_document(root);\n  } else {\n    let attempts = 0;\n    const timer = setInterval(function(root) {\n      if (root.Bokeh !== undefined) {\n        clearInterval(timer);\n        embed_document(root);\n      } else {\n        attempts++;\n        if (attempts > 100) {\n          clearInterval(timer);\n          console.log(\"Bokeh: ERROR: Unable to run BokehJS code because BokehJS library is missing\");\n        }\n      }\n    }, 10, root)\n  }\n})(window);",
      "application/vnd.bokehjs_exec.v0+json": ""
     },
     "metadata": {
      "application/vnd.bokehjs_exec.v0+json": {
       "id": "p2108"
      }
     },
     "output_type": "display_data"
    },
    {
     "data": {
      "text/html": [
       "\n",
       "  <div id=\"da382212-1a00-46d2-806c-fc14caffd722\" data-root-id=\"p2149\" style=\"display: contents;\"></div>\n"
      ]
     },
     "metadata": {},
     "output_type": "display_data"
    },
    {
     "data": {
      "application/javascript": "(function(root) {\n  function embed_document(root) {\n  const docs_json = {\"6647d535-9d38-4c77-91a0-a8bc3b736674\":{\"version\":\"3.5.1\",\"title\":\"Bokeh Application\",\"roots\":[{\"type\":\"object\",\"name\":\"Figure\",\"id\":\"p2149\",\"attributes\":{\"x_range\":{\"type\":\"object\",\"name\":\"Range1d\",\"id\":\"p2158\",\"attributes\":{\"end\":11}},\"y_range\":{\"type\":\"object\",\"name\":\"Range1d\",\"id\":\"p2159\",\"attributes\":{\"end\":18}},\"x_scale\":{\"type\":\"object\",\"name\":\"LinearScale\",\"id\":\"p2160\"},\"y_scale\":{\"type\":\"object\",\"name\":\"LinearScale\",\"id\":\"p2161\"},\"title\":{\"type\":\"object\",\"name\":\"Title\",\"id\":\"p2156\"},\"renderers\":[{\"type\":\"object\",\"name\":\"GlyphRenderer\",\"id\":\"p2174\",\"attributes\":{\"data_source\":{\"type\":\"object\",\"name\":\"ColumnDataSource\",\"id\":\"p2162\",\"attributes\":{\"selected\":{\"type\":\"object\",\"name\":\"Selection\",\"id\":\"p2163\",\"attributes\":{\"indices\":[],\"line_indices\":[]}},\"selection_policy\":{\"type\":\"object\",\"name\":\"UnionRenderers\",\"id\":\"p2164\"},\"data\":{\"type\":\"map\",\"entries\":[[\"image\",[{\"type\":\"ndarray\",\"array\":{\"type\":\"bytes\",\"data\":\"pmc/PzbwOT4TgEE838apOjcW5TkTHeI5dHkmOc6YAjpHZt07iu+YO54MNz1YsnU/8YUUPchXGzuNTBY6rw7fNwMTMDiC79w2MPabNkoG+Tj/Xyw5+FUyOn8kXz+F0tA9RFExPD1GOjoK4DI6aDijOdRb6TrMaT87tyLHOw9wQTo5gRk7U3tJP8KlNj0R20g9fySiO6yqdzy5jQY8tWa1OgRhxDu18yY8Znc+O8aNkD2XfnI/s4nZO3ruFjtbBlo4slyEOs19DjoHEgU5Ws1wO8N9xjuP3Lc6LYX9PFaCfT9EXdc6RaYmOvDAjjZtiEY5Jgh9Nw0ZnjfFPu45FgJMOkWdDzqSXLI7zC91PxhTJjvIQ8w6i4cSOeRu+jgWe3A43m7vN/YDuTmO+zQ6ve9wOUmbFT2HU+Q9HvOROiidHjrFFIo5CH53OuYRMzhzy2I41S2MPLcRgDsPPz87pY5cP98QOj8vcxc6zdliOCuVVThv1Z038JqFN7A32De0dMo6W4vyOcROojuE7Ic+oAkgP4DNKzsio4448TiQN3oNujeeC4E42wYLOCVrBDsCzYA9q7diOx95mz7JLRE986SkOD8zITtmags5WvqkOXqnLTnpQVk5i/AjPWddkjws7FI+B4QyP6TXTj+BoHI7xBcVOkvchjlcFJg6msZKO9YgRzq6dvY835QSPS+3VTz/GNQ9sjF2P+X71zrZgh06s8GkOZcaljoX9x06QA9IOKT1FDwo2Io8ugX+OhOIwzuVaGc/QAjnOMGQejkc39U3i5BROc6kwzpyqsk35Ls/PD67MT3Sygk81pH5PL3/fT9l+e44Kg6xN/2ocTcsfXA483YlOBzifzZgenI6v7DUOgzwjzh/NaI7lGWpPFO4azp0e7o8qqYhOk4TBjyIno49tEMNOv/UJj7P4i0/JtPvPE/EqzuSNog3/oXWNJ7dbDoX/GM6NPwYPm29MTzdLAo6uOPWPiNV1T5F6j46e+mvOf3pwTXrsqA2MBySO1iVGjkRz6s95DdRP9l37zkV6Kg8KqOVPdp4qzjr2343\"},\"shape\":[18,11],\"dtype\":\"float32\",\"order\":\"little\"}]]]}}},\"view\":{\"type\":\"object\",\"name\":\"CDSView\",\"id\":\"p2175\",\"attributes\":{\"filter\":{\"type\":\"object\",\"name\":\"AllIndices\",\"id\":\"p2176\"}}},\"glyph\":{\"type\":\"object\",\"name\":\"Image\",\"id\":\"p2165\",\"attributes\":{\"x\":{\"type\":\"value\",\"value\":0},\"y\":{\"type\":\"value\",\"value\":0},\"dw\":{\"type\":\"value\",\"value\":11},\"dh\":{\"type\":\"value\",\"value\":18},\"image\":{\"type\":\"field\",\"field\":\"image\"},\"color_mapper\":{\"type\":\"object\",\"name\":\"LinearColorMapper\",\"id\":\"p2166\",\"attributes\":{\"palette\":[\"#000000\",\"#252525\",\"#525252\",\"#737373\",\"#969696\",\"#bdbdbd\",\"#d9d9d9\",\"#f0f0f0\",\"#ffffff\"]}}}},\"nonselection_glyph\":{\"type\":\"object\",\"name\":\"Image\",\"id\":\"p2168\",\"attributes\":{\"x\":{\"type\":\"value\",\"value\":0},\"y\":{\"type\":\"value\",\"value\":0},\"dw\":{\"type\":\"value\",\"value\":11},\"dh\":{\"type\":\"value\",\"value\":18},\"global_alpha\":{\"type\":\"value\",\"value\":0.1},\"image\":{\"type\":\"field\",\"field\":\"image\"},\"color_mapper\":{\"type\":\"object\",\"name\":\"LinearColorMapper\",\"id\":\"p2169\",\"attributes\":{\"palette\":[\"#000000\",\"#252525\",\"#525252\",\"#737373\",\"#969696\",\"#bdbdbd\",\"#d9d9d9\",\"#f0f0f0\",\"#ffffff\"]}}}},\"muted_glyph\":{\"type\":\"object\",\"name\":\"Image\",\"id\":\"p2171\",\"attributes\":{\"x\":{\"type\":\"value\",\"value\":0},\"y\":{\"type\":\"value\",\"value\":0},\"dw\":{\"type\":\"value\",\"value\":11},\"dh\":{\"type\":\"value\",\"value\":18},\"global_alpha\":{\"type\":\"value\",\"value\":0.2},\"image\":{\"type\":\"field\",\"field\":\"image\"},\"color_mapper\":{\"type\":\"object\",\"name\":\"LinearColorMapper\",\"id\":\"p2172\",\"attributes\":{\"palette\":[\"#000000\",\"#252525\",\"#525252\",\"#737373\",\"#969696\",\"#bdbdbd\",\"#d9d9d9\",\"#f0f0f0\",\"#ffffff\"]}}}}}}],\"toolbar\":{\"type\":\"object\",\"name\":\"Toolbar\",\"id\":\"p2157\"},\"left\":[{\"type\":\"object\",\"name\":\"LinearAxis\",\"id\":\"p2182\",\"attributes\":{\"ticker\":{\"type\":\"object\",\"name\":\"FixedTicker\",\"id\":\"p2186\",\"attributes\":{\"ticks\":{\"type\":\"ndarray\",\"array\":{\"type\":\"bytes\",\"data\":\"AAAAAAAA4D8AAAAAAAD4PwAAAAAAAARAAAAAAAAADEAAAAAAAAASQAAAAAAAABZAAAAAAAAAGkAAAAAAAAAeQAAAAAAAACFAAAAAAAAAI0AAAAAAAAAlQAAAAAAAACdAAAAAAAAAKUAAAAAAAAArQAAAAAAAAC1AAAAAAAAAL0AAAAAAAIAwQAAAAAAAgDFA\"},\"shape\":[18],\"dtype\":\"float64\",\"order\":\"little\"},\"minor_ticks\":[]}},\"formatter\":{\"type\":\"object\",\"name\":\"BasicTickFormatter\",\"id\":\"p2184\"},\"axis_label\":\"translation tokens\",\"major_label_overrides\":{\"type\":\"map\",\"entries\":[[0.5,\"_EOS_\"],[1.5,\".\"],[2.5,\"kitchen\"],[3.5,\"communal\"],[4.5,\"a\"],[5.5,\"with\"],[6.5,\"equipped\"],[7.5,\"is\"],[8.5,\"which\"],[9.5,\",\"],[10.5,\"kitchen\"],[11.5,\"shared\"],[12.5,\"the\"],[13.5,\"in\"],[14.5,\"cook\"],[15.5,\"can\"],[16.5,\"guests\"],[17.5,\"_BOS_\"]]},\"major_label_policy\":{\"type\":\"object\",\"name\":\"AllLabels\",\"id\":\"p2185\"}}}],\"above\":[{\"type\":\"object\",\"name\":\"LinearAxis\",\"id\":\"p2177\",\"attributes\":{\"ticker\":{\"type\":\"object\",\"name\":\"FixedTicker\",\"id\":\"p2181\",\"attributes\":{\"ticks\":{\"type\":\"ndarray\",\"array\":{\"type\":\"bytes\",\"data\":\"AAAAAAAA4D8AAAAAAAD4PwAAAAAAAARAAAAAAAAADEAAAAAAAAASQAAAAAAAABZAAAAAAAAAGkAAAAAAAAAeQAAAAAAAACFAAAAAAAAAI0AAAAAAAAAlQA==\"},\"shape\":[11],\"dtype\":\"float64\",\"order\":\"little\"},\"minor_ticks\":[]}},\"formatter\":{\"type\":\"object\",\"name\":\"BasicTickFormatter\",\"id\":\"p2179\"},\"axis_label\":\"source tokens\",\"major_label_orientation\":45,\"major_label_overrides\":{\"type\":\"map\",\"entries\":[[0.5,\"_BOS_\"],[1.5,\"\\u0433\\u043e\\u0441\\u0442\\u0438\"],[2.5,\"\\u043d\\u043e\\u043c\\u0435\\u0440\\u043e\\u0432\"],[3.5,\"\\u043c\\u043e\\u0433\\u0443\\u0442\"],[4.5,\"\\u0433\\u043e\\u0442\\u043e\\u0432\\u0438\\u0442\\u044c\"],[5.5,\"\\u0431\\u043b\\u044e\\u0434\\u0430\"],[6.5,\"\\u043d\\u0430\"],[7.5,\"\\u043e\\u0431\\u0449\\u0435\\u0439\"],[8.5,\"\\u043a\\u0443\\u0445\\u043d\\u0435\"],[9.5,\".\"],[10.5,\"_EOS_\"]]},\"major_label_policy\":{\"type\":\"object\",\"name\":\"AllLabels\",\"id\":\"p2180\"}}}]}}]}};\n  const render_items = [{\"docid\":\"6647d535-9d38-4c77-91a0-a8bc3b736674\",\"roots\":{\"p2149\":\"da382212-1a00-46d2-806c-fc14caffd722\"},\"root_ids\":[\"p2149\"]}];\n  void root.Bokeh.embed.embed_items_notebook(docs_json, render_items);\n  }\n  if (root.Bokeh !== undefined) {\n    embed_document(root);\n  } else {\n    let attempts = 0;\n    const timer = setInterval(function(root) {\n      if (root.Bokeh !== undefined) {\n        clearInterval(timer);\n        embed_document(root);\n      } else {\n        attempts++;\n        if (attempts > 100) {\n          clearInterval(timer);\n          console.log(\"Bokeh: ERROR: Unable to run BokehJS code because BokehJS library is missing\");\n        }\n      }\n    }, 10, root)\n  }\n})(window);",
      "application/vnd.bokehjs_exec.v0+json": ""
     },
     "metadata": {
      "application/vnd.bokehjs_exec.v0+json": {
       "id": "p2149"
      }
     },
     "output_type": "display_data"
    },
    {
     "data": {
      "text/html": [
       "\n",
       "  <div id=\"e9003f24-297c-41ad-a9c8-37148e8ea176\" data-root-id=\"p2190\" style=\"display: contents;\"></div>\n"
      ]
     },
     "metadata": {},
     "output_type": "display_data"
    },
    {
     "data": {
      "application/javascript": "(function(root) {\n  function embed_document(root) {\n  const docs_json = {\"d2283991-0b3b-46a8-af6c-b786ce146e1c\":{\"version\":\"3.5.1\",\"title\":\"Bokeh Application\",\"roots\":[{\"type\":\"object\",\"name\":\"Figure\",\"id\":\"p2190\",\"attributes\":{\"x_range\":{\"type\":\"object\",\"name\":\"Range1d\",\"id\":\"p2199\",\"attributes\":{\"end\":27}},\"y_range\":{\"type\":\"object\",\"name\":\"Range1d\",\"id\":\"p2200\",\"attributes\":{\"end\":26}},\"x_scale\":{\"type\":\"object\",\"name\":\"LinearScale\",\"id\":\"p2201\"},\"y_scale\":{\"type\":\"object\",\"name\":\"LinearScale\",\"id\":\"p2202\"},\"title\":{\"type\":\"object\",\"name\":\"Title\",\"id\":\"p2197\"},\"renderers\":[{\"type\":\"object\",\"name\":\"GlyphRenderer\",\"id\":\"p2215\",\"attributes\":{\"data_source\":{\"type\":\"object\",\"name\":\"ColumnDataSource\",\"id\":\"p2203\",\"attributes\":{\"selected\":{\"type\":\"object\",\"name\":\"Selection\",\"id\":\"p2204\",\"attributes\":{\"indices\":[],\"line_indices\":[]}},\"selection_policy\":{\"type\":\"object\",\"name\":\"UnionRenderers\",\"id\":\"p2205\"},\"data\":{\"type\":\"map\",\"entries\":[[\"image\",[{\"type\":\"ndarray\",\"array\":{\"type\":\"bytes\",\"data\":\"kWzyPZK/JTu0C1g7b/HYORY5IDhviZU4Bx8LOdsaBDgxwiI5ECPIOEqy0jmYnLo3RxLgOLSKoDhf7rA5bVWGOoWy3TlJ5Zw71aS4Oh9vczuP+vM5c9mrO5JX0DrK4JE7grC6Pa9yCz7xmx8//LRBPHfDKzmra3M7MxW8OYCfTTgMbXY4v/zWOASnmTdgrkk5VW2iOfD6/TgUlWA5JMtDOt97hDlF4Jg6QUUlOo5nTDo7Exs7mCdFPLrkZDuZMvc5tP+YOwKA3jqhQIA8IH1xPB9eOT4KPz4/rRzvPt3udzlAE00695wqOXpqlze3tzc3ojrAOLea6zhWSy45VLm7OAVYdjhBo7E47gGVOh0Rtjjgd6c52l4BOfT04jm6TXg6/H+GOtY8bTuYOpU5GF9oPJ8rlTrv45w7GG95PQbnGT7ocpU+qjdhP1yiJD2Phh07feOEOQkKfDdFC6I5Q481OsTD7DiZ9go5PVVqOTY02jmqT8I3Q5p6OSwA/TeEpCc5/J9kN3SvNjmBX+M6Yg3COVheEjvu7AE6GI0iO/ULATvy/Vk79CYNPazFCjxCMp483XGSPeL7UDrmZhA6DZrEObWZtThjmkA5j0T4ONvfPTiPrgc4A+D2N/nF8Dh3DVI4sMOyOc04UDjbEaI5Kw89OeQAkDkizRk6cC8pOlsNHzyyLpE56kMPO4M4CztJcpA7KJejPc3Lnz6bVgM/K8CJPlke/Tu+TKs6Lcy2OAxfljnp8qk5qOCbOfPsgzmyJcw5JzEaOs6Y3Tpu9q44vgEcOpfK1zjxrpU5YGqFOJafuzlIgYY6iz2yOfIFqDsvSz46GsB3PEig+zt7Jmk8DXWgPcNvoT1J3QM/zFURP+lZsDoX5IU58JOAOLidhTi38KA4056xOjZ2zTqyhrk6pT8KOo9c7zr1KmA6Jyu/Omc9MzokR4I6zcGROUzEIzulhpo8RONqO89jFjx+XVc8imTTPDMQQTyj7xI9ryrSPFt8aT1zUV0+rUhsP2AN/DyG5xo7CQrlN/vfbTiHGeU4/XdUOK3C2DdkgYU4fdnuOAphQjm9iiI4a/yeOUJ/wjeH8TA5QShpOSi+5zk3k9c6DBDtOFEymjp1cOo6inAXOxNbYTt5uS07W2v/O4oxjTvU14k8ucK/PjFEqDrMIWU7tqa5OARA2jdM0qU5giQKOqLKwDjXQSM5q3P9ODmJczqyDyQ51ic5O5DgBTpoLnY6i6MFOd+tujpcXr876gxjOj1YpztU1as7TKSDPcQSbTyRqsM9c62FPnFMiT1Wab49HNwkPclfwTipJ7c3VuuBN2qLDjeIh9Y5t/GFOXX6Djk3doA5G8gQOY6gJTpSMnY4gLrrOqMuNzmcDrI5jSyLOdzVFjsp9EI9V2J4O8lesTwYbHY8JuidPdu0Vz4LRO49/t5BPqGSST1demM+Y3e1PsCotjm5xBk7XfQdOj6LADmP9b05volLOVse1TncayQ6yFFcOkoBsDnCYTg6Hz0GOuwRvTlUPiA7dROkOQDTdjr+YBw9EAZqPNA2gjyj4wM9MIDVPY16RzwLRYI9dn6BPgEWwzx/RJ09pUMuP7KcXzpqueo5pK3cNsICujdrvwU6mR/qOThgjTnPVAQ6wA/OOTQKHTsOLi05gqaAOua5AjkPjBU7g7zNOvs8ZTvrhEE9Ij6iO9Q52zzkU4E8riMNPen6jjyp5Js9+mJuPYsUODzNZ048SZ1XP8lQnjn/2q84yDOZN4MvjzaJ/Tk5pP2wODRa/Tj7G/I4CjmlN/mMRDjuLoY4ebwbOxoegjlPXtA6aTYRO/qrGztbEOs8vibiO5IpQDzxmzw8ovp4PP/bKzy9+UU9MKFTPOc7pTqPx2Y6AFgJP3v35DoKuA456if4N9iVyjfwiLs3Po4sOqOcHTkSOIU47xDhOH8U1zqg/go4bi6dOlp1FzkBiik6XZ/YOq/zTTpSJRM8dumaPCABIj2K5A88z8mOPUPEzTw7Giw+gwelPfaJRTwY3rk8+zl+P7e0QTu/b/c4BKDRNIxfhjaNiyU1lO4AN6q8Kzd4wIc3wXK1NcOvvjayR5g1J5+EOMDjJjdv9FM5D6cVOTO0pzjwHp052dIQOvJnRDk2yQI5VxSZOVVNKTm4W106fGJUOvaPJzca9d83KQcdP4fGiDoxxD85Ol+4Nqr4djX+RDE4uMruOb8HVzjn2vg5NHtcOEezfzowmz45j6kFPHSFkzmnBn87jLhVO3mzvTyykgs+zgFCPewB2zw6tKQ8jDwqPL5h3zv4rU88Jh6kPehn3jpnWg47A3N8P8+iVzpL4ok4h7U3NsTwjTXFDUg310awN3y+KTeSpcM324qzNmpQrjdPCyg3Lg86OhDlzjj4pBI6GMqkONsYXTpmpw47kmNbOiBlnjovCoE61MDhOkZckDrxhm86cJGKOqeBgjmq168554J/P9Q8LjlkdWA4lWkVNrLgoDfXiyY2Uto5N46yqDavXy42SewQN3+C9Ddc7x43yf3FOQ7GHTgjboQ5KV4GOVMpBDkBt3o5ixOrOMK/CDiRbCQ4rqQaOGFe6Ddg3xM4UFw0OekEOzbVEiw3kqPEPvSFFzrIlq44ARjYNqxJrDe7F3Y5cqPhOZlDAjuBbAk7OY8+OrwEkjvJYdo5J3F1PGmyKDs0f4g9cr4VPH19cT3aff89cwgJPoKeLT2cZ+I7quIlPVprWzwKdpg9FZNOPKi1DTqBzFQ7AENmPxWwpjhP7Ik5HnylNjb/5DUTFVQ4Q0adOUYSxzfsldc35yvKOUxwkTvV/Gs5AfkFO8reCDo8q8E7abijOtVA4To1Wis8qfyzPCZowDyMWsY6zMEqPB1Z/zvGWV47giiAO4D9Dzkrv105kwM8P1F16DkgmaA5QSdfNtKdPDb/Wjs5RztsOUp9BTnmxUo5DaKvOUjeUjoHEKw5GjthPGpfrjwSy0k8WhsuO4enETwADto8MgqPPNwORjz/9M066eQLPS5shjxepQw90MpiPQgH1jph34U7WxV6PvfPOTs27qQ6KzJEOH34lTlYc8E6CU8POY0/DDkkRm05TB6XOIPIGjv39lU69lB/PHXZ9zv80A89t6otPbkC1jydf4s+A9/TPWFWgD2NfFI88M6LPTpMjzzz3Tc9qV7EPA+apjufswY840xrOuEt0jcXZuc2rkSgNliDEjb+zkM67+AZPJbUpDqoBCc7pXDYOx1/5Tz6FzA7a/PdPVcDrD3/nYY9KXq+PPeEzzw68Fs+a/cSPiG3Pz1eYR48CRiFPU+hVj3JkLU8532mPQSLjzvlypM683IROoVrATltVtg4Wn6kN6321jc+fgY8LtImPMmAUztzQ848nrSFOq0Npjy3Has63NSSPXahAjxxRiU+/5VyPPdBQj1WK8A+Yz0gPdOxWj2Mf/08joJQPcgyozyBBq88hh8FPf9Zwzq/acU6wcmaNgZ1BThnfxc5ZYavOugo8TowfWk9pPF4PemNQj7m+b49WUVtPLw6/z6ogTY7LPooPItoADvjCCU7c7iRPGPs/TsX8R08EqZpOkqyiDxx91M5eNvqOi3DEDwKCt45auF9Oh9JRjhAIRw4lWKhNBUFeTYTc3I2je31OSKkLzg/jg867879O7CyGT0gX54+aP8bO5RQwT1tYSk7ymYNPAjPhTlmJtA7uMs2PPHSoDy6SUg+ODkwO+HOQz61FB457JORPXY8hzsZukk5wR0KPTNvozbCrD45\"},\"shape\":[26,27],\"dtype\":\"float32\",\"order\":\"little\"}]]]}}},\"view\":{\"type\":\"object\",\"name\":\"CDSView\",\"id\":\"p2216\",\"attributes\":{\"filter\":{\"type\":\"object\",\"name\":\"AllIndices\",\"id\":\"p2217\"}}},\"glyph\":{\"type\":\"object\",\"name\":\"Image\",\"id\":\"p2206\",\"attributes\":{\"x\":{\"type\":\"value\",\"value\":0},\"y\":{\"type\":\"value\",\"value\":0},\"dw\":{\"type\":\"value\",\"value\":27},\"dh\":{\"type\":\"value\",\"value\":26},\"image\":{\"type\":\"field\",\"field\":\"image\"},\"color_mapper\":{\"type\":\"object\",\"name\":\"LinearColorMapper\",\"id\":\"p2207\",\"attributes\":{\"palette\":[\"#000000\",\"#252525\",\"#525252\",\"#737373\",\"#969696\",\"#bdbdbd\",\"#d9d9d9\",\"#f0f0f0\",\"#ffffff\"]}}}},\"nonselection_glyph\":{\"type\":\"object\",\"name\":\"Image\",\"id\":\"p2209\",\"attributes\":{\"x\":{\"type\":\"value\",\"value\":0},\"y\":{\"type\":\"value\",\"value\":0},\"dw\":{\"type\":\"value\",\"value\":27},\"dh\":{\"type\":\"value\",\"value\":26},\"global_alpha\":{\"type\":\"value\",\"value\":0.1},\"image\":{\"type\":\"field\",\"field\":\"image\"},\"color_mapper\":{\"type\":\"object\",\"name\":\"LinearColorMapper\",\"id\":\"p2210\",\"attributes\":{\"palette\":[\"#000000\",\"#252525\",\"#525252\",\"#737373\",\"#969696\",\"#bdbdbd\",\"#d9d9d9\",\"#f0f0f0\",\"#ffffff\"]}}}},\"muted_glyph\":{\"type\":\"object\",\"name\":\"Image\",\"id\":\"p2212\",\"attributes\":{\"x\":{\"type\":\"value\",\"value\":0},\"y\":{\"type\":\"value\",\"value\":0},\"dw\":{\"type\":\"value\",\"value\":27},\"dh\":{\"type\":\"value\",\"value\":26},\"global_alpha\":{\"type\":\"value\",\"value\":0.2},\"image\":{\"type\":\"field\",\"field\":\"image\"},\"color_mapper\":{\"type\":\"object\",\"name\":\"LinearColorMapper\",\"id\":\"p2213\",\"attributes\":{\"palette\":[\"#000000\",\"#252525\",\"#525252\",\"#737373\",\"#969696\",\"#bdbdbd\",\"#d9d9d9\",\"#f0f0f0\",\"#ffffff\"]}}}}}}],\"toolbar\":{\"type\":\"object\",\"name\":\"Toolbar\",\"id\":\"p2198\"},\"left\":[{\"type\":\"object\",\"name\":\"LinearAxis\",\"id\":\"p2223\",\"attributes\":{\"ticker\":{\"type\":\"object\",\"name\":\"FixedTicker\",\"id\":\"p2227\",\"attributes\":{\"ticks\":{\"type\":\"ndarray\",\"array\":{\"type\":\"bytes\",\"data\":\"AAAAAAAA4D8AAAAAAAD4PwAAAAAAAARAAAAAAAAADEAAAAAAAAASQAAAAAAAABZAAAAAAAAAGkAAAAAAAAAeQAAAAAAAACFAAAAAAAAAI0AAAAAAAAAlQAAAAAAAACdAAAAAAAAAKUAAAAAAAAArQAAAAAAAAC1AAAAAAAAAL0AAAAAAAIAwQAAAAAAAgDFAAAAAAACAMkAAAAAAAIAzQAAAAAAAgDRAAAAAAACANUAAAAAAAIA2QAAAAAAAgDdAAAAAAACAOEAAAAAAAIA5QA==\"},\"shape\":[26],\"dtype\":\"float64\",\"order\":\"little\"},\"minor_ticks\":[]}},\"formatter\":{\"type\":\"object\",\"name\":\"BasicTickFormatter\",\"id\":\"p2225\"},\"axis_label\":\"translation tokens\",\"major_label_overrides\":{\"type\":\"map\",\"entries\":[[0.5,\"_EOS_\"],[1.5,\".\"],[2.5,\"bathroom\"],[3.5,\"bedroom\"],[4.5,\"a\"],[5.5,\"and\"],[6.5,\"kitchen\"],[7.5,\"equipped\"],[8.5,\"fully\"],[9.5,\"a\"],[10.5,\",\"],[11.5,\"bedroom\"],[12.5,\"each\"],[13.5,\",\"],[14.5,\"l\"],[15.5,\"along\"],[16.5,\"it@@\"],[17.5,\"h@@\"],[18.5,\"in\"],[19.5,\"set\"],[20.5,\"are\"],[21.5,\"apartments\"],[22.5,\"or\"],[23.5,\"balcony\"],[24.5,\"a\"],[25.5,\"_BOS_\"]]},\"major_label_policy\":{\"type\":\"object\",\"name\":\"AllLabels\",\"id\":\"p2226\"}}}],\"above\":[{\"type\":\"object\",\"name\":\"LinearAxis\",\"id\":\"p2218\",\"attributes\":{\"ticker\":{\"type\":\"object\",\"name\":\"FixedTicker\",\"id\":\"p2222\",\"attributes\":{\"ticks\":{\"type\":\"ndarray\",\"array\":{\"type\":\"bytes\",\"data\":\"AAAAAAAA4D8AAAAAAAD4PwAAAAAAAARAAAAAAAAADEAAAAAAAAASQAAAAAAAABZAAAAAAAAAGkAAAAAAAAAeQAAAAAAAACFAAAAAAAAAI0AAAAAAAAAlQAAAAAAAACdAAAAAAAAAKUAAAAAAAAArQAAAAAAAAC1AAAAAAAAAL0AAAAAAAIAwQAAAAAAAgDFAAAAAAACAMkAAAAAAAIAzQAAAAAAAgDRAAAAAAACANUAAAAAAAIA2QAAAAAAAgDdAAAAAAACAOEAAAAAAAIA5QAAAAAAAgDpA\"},\"shape\":[27],\"dtype\":\"float64\",\"order\":\"little\"},\"minor_ticks\":[]}},\"formatter\":{\"type\":\"object\",\"name\":\"BasicTickFormatter\",\"id\":\"p2220\"},\"axis_label\":\"source tokens\",\"major_label_orientation\":45,\"major_label_overrides\":{\"type\":\"map\",\"entries\":[[0.5,\"_BOS_\"],[1.5,\"\\u0432\\u043e\"],[2.5,\"\\u0432\\u0441\\u0435\\u0445\"],[3.5,\"\\u0430\\u043f\\u0430\\u0440\\u0442\\u0430\\u043c\\u0435\\u043d\\u0442\\u0430\\u0445\"],[4.5,\"\\u043e\\u0442\\u0435\\u043b\\u044f\"],[5.5,\"h@@\"],[6.5,\"\\u00e4@@\"],[7.5,\"us\"],[8.5,\"`\"],[9.5,\"l\"],[10.5,\"am\"],[11.5,\"ru@@\"],[12.5,\"an\"],[13.5,\"\\u0435\\u0441\\u0442\\u044c\"],[14.5,\"\\u0432\\u0430\\u043d\\u043d\\u0430\\u044f\"],[15.5,\"\\u043a\\u043e\\u043c\\u043d\\u0430\\u0442\\u0430\"],[16.5,\",\"],[17.5,\"\\u043f\\u043e\\u043b\\u043d\\u043e\\u0441\\u0442\\u044c\\u044e\"],[18.5,\"\\u043e\\u0431\\u043e\\u0440\\u0443\\u0434\\u043e\\u0432\\u0430\\u043d\\u043d\\u0430\\u044f\"],[19.5,\"\\u043a\\u0443\\u0445\\u043d\\u044f\"],[20.5,\"\\u0441\"],[21.5,\"\\u043f\\u043e\\u0441\\u0443\\u0434\\u043e\\u043c\\u043e\\u0435\\u0447\\u043d\\u043e\\u0439\"],[22.5,\"\\u043c\\u0430\\u0448\\u0438\\u043d\\u043e\\u0439\"],[23.5,\"\\u0438\"],[24.5,\"\\u0441\\u043f\\u0430\\u043b\\u044c\\u043d\\u044f\"],[25.5,\".\"],[26.5,\"_EOS_\"]]},\"major_label_policy\":{\"type\":\"object\",\"name\":\"AllLabels\",\"id\":\"p2221\"}}}]}}]}};\n  const render_items = [{\"docid\":\"d2283991-0b3b-46a8-af6c-b786ce146e1c\",\"roots\":{\"p2190\":\"e9003f24-297c-41ad-a9c8-37148e8ea176\"},\"root_ids\":[\"p2190\"]}];\n  void root.Bokeh.embed.embed_items_notebook(docs_json, render_items);\n  }\n  if (root.Bokeh !== undefined) {\n    embed_document(root);\n  } else {\n    let attempts = 0;\n    const timer = setInterval(function(root) {\n      if (root.Bokeh !== undefined) {\n        clearInterval(timer);\n        embed_document(root);\n      } else {\n        attempts++;\n        if (attempts > 100) {\n          clearInterval(timer);\n          console.log(\"Bokeh: ERROR: Unable to run BokehJS code because BokehJS library is missing\");\n        }\n      }\n    }, 10, root)\n  }\n})(window);",
      "application/vnd.bokehjs_exec.v0+json": ""
     },
     "metadata": {
      "application/vnd.bokehjs_exec.v0+json": {
       "id": "p2190"
      }
     },
     "output_type": "display_data"
    }
   ],
   "source": [
    "for i in range(10):\n",
    "    draw_attention(inp[i], trans[i], attention_probs[i])\n",
    "    \n",
    "# Does it look fine already? don't forget to save images for anytask!"
   ]
  },
  {
   "cell_type": "markdown",
   "metadata": {},
   "source": [
    "__Note 1:__ If the attention maps are not iterpretable, try starting encoder from zeros (instead of dec_start), forcing model to use attention.\n",
    "\n",
    "__Note 2:__ If you're studying this course as a YSDA student, please submit __attention screenshots__ alongside your notebook."
   ]
  },
  {
   "cell_type": "markdown",
   "metadata": {
    "colab_type": "text",
    "id": "pbIIngNVlrtt"
   },
   "source": [
    "## Goind deeper (2++ points each)\n",
    "\n",
    "We want you to find the best model for the task. Use everything you know.\n",
    "\n",
    "* different recurrent units: rnn/gru/lstm; deeper architectures\n",
    "* bidirectional encoder, different attention methods for decoder (additive, dot-product, multi-head)\n",
    "* word dropout, training schedules, anything you can imagine\n",
    "* replace greedy inference with beam search\n",
    "\n",
    "For a better grasp of seq2seq We recommend you to conduct at least one experiment from one of the bullet-points or your alternative ideas. As usual, describe what you tried and what results you obtained in a short report."
   ]
  },
  {
   "cell_type": "markdown",
   "metadata": {
    "colab_type": "text",
    "collapsed": true,
    "id": "2rzAj_xtlrtt"
   },
   "source": [
    "`[your report/log here or anywhere you please]`"
   ]
  }
 ],
 "metadata": {
  "accelerator": "GPU",
  "colab": {
   "collapsed_sections": [
    "edk_oVg0lrtW"
   ],
   "name": "practice.ipynb",
   "provenance": []
  },
  "kernelspec": {
   "display_name": "Python 3",
   "language": "python",
   "name": "python3"
  },
  "language_info": {
   "codemirror_mode": {
    "name": "ipython",
    "version": 3
   },
   "file_extension": ".py",
   "mimetype": "text/x-python",
   "name": "python",
   "nbconvert_exporter": "python",
   "pygments_lexer": "ipython3",
   "version": "3.12.3"
  }
 },
 "nbformat": 4,
 "nbformat_minor": 1
}
